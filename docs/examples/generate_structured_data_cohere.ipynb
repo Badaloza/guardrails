{
 "cells": [
  {
   "cell_type": "code",
   "execution_count": null,
   "id": "c49fe7ac-7bda-44ed-bcda-5c29e63c5783",
   "metadata": {},
   "outputs": [],
   "source": [
    "%pip install cohere"
   ]
  },
  {
   "cell_type": "code",
   "execution_count": null,
   "id": "899221f3-0496-439b-b284-d6a6603b08c1",
   "metadata": {},
   "outputs": [],
   "source": [
    "%pip install guardrails-ai pydantic typing openai rich"
   ]
  },
  {
   "cell_type": "code",
   "execution_count": null,
   "id": "ff00db64-4642-4389-b204-ff518b796754",
   "metadata": {},
   "outputs": [],
   "source": [
    "import guardrails as gd"
   ]
  },
  {
   "cell_type": "code",
   "execution_count": null,
   "id": "5f31104d-ebbd-47ae-a4f4-a29f1c8e1f4d",
   "metadata": {},
   "outputs": [],
   "source": [
    "from pydantic import BaseModel, Field\n",
    "from guardrails.validators import ValidLength, TwoWords, ValidRange\n",
    "from guardrails.datatypes import Date\n",
    "from typing import List\n",
    "\n",
    "prompt = \"\"\"\n",
    "Generate a dataset of fake user orders. Each row of the dataset should be valid. The format should not be a list, it should be a JSON object.\n",
    "${gr.complete_json_suffix}\n",
    "\n",
    "an example of output may look like this:\n",
    "{\n",
    "\t\"user_orders\": [{                                                                                                   │ │\n",
    "        \"user_id\": 1,\n",
    "        \"user_name\": \"John Mcdonald\",\n",
    "    \t\"num_orders\": 6\n",
    "    }]\n",
    "}\n",
    "\n",
    "\"\"\"\n",
    "\n",
    "class Order(BaseModel):\n",
    "\tuser_id: int = Field(description=\"The user's id.\", validators=[(\"1-indexed\", \"noop\")])\n",
    "\tuser_name: str = Field(\n",
    "\t\tdescription=\"The user's first name and last name\",\n",
    "\t\tvalidators=[TwoWords()]\n",
    "\t)\n",
    "\n",
    "\tnum_orders: int = Field(\n",
    "\t\tdescription=\"The number of orders the user has placed\",\n",
    "\t\tvalidators=[ValidRange(0, 50)]\n",
    "\t)\n",
    "\t\n",
    "\n",
    "\n",
    "class Orders(BaseModel):\n",
    "\tuser_orders: List[Order] = Field(\n",
    "\t\tdescription=\"Generate a list of users and how many orders they have placed in the past.\",\n",
    "\t\tvalidators=[ValidLength(10, 10, on_fail=\"noop\")]\n",
    "\t)"
   ]
  },
  {
   "cell_type": "code",
   "execution_count": null,
   "id": "840006ca-21ca-4f76-9ce1-e406d5d68412",
   "metadata": {},
   "outputs": [],
   "source": [
    "import cohere\n",
    "\n",
    "co = cohere.Client(api_key='<Cohere_API_KEY>')"
   ]
  },
  {
   "cell_type": "code",
   "execution_count": null,
   "id": "89e3df49-758c-4731-bed8-a85c6cd10762",
   "metadata": {},
   "outputs": [],
   "source": [
    "guard = gd.Guard.from_pydantic(output_class=Orders, prompt=prompt)"
   ]
  },
  {
   "cell_type": "code",
   "execution_count": null,
   "id": "42766922-14d0-4b5e-853a-23f05b896a09",
   "metadata": {},
   "outputs": [],
   "source": [
    "raw_llm_response, validated_response = guard(\n",
    "\tco.generate,\n",
    "\tmodel=\"command\",\n",
    "\tmax_tokens=1024,\n",
    "\ttemperature=0.3\n",
    ")"
   ]
  },
  {
   "cell_type": "code",
   "execution_count": null,
   "id": "0e910d87",
   "metadata": {},
   "outputs": [],
   "source": [
    "from rich import print\n",
    "\n",
    "guard.guard_state.most_recent_call.tree"
   ]
  },
  {
   "cell_type": "code",
   "execution_count": null,
   "id": "5bf76f53-65e6-44e9-897f-5437e3c75cee",
   "metadata": {},
   "outputs": [],
   "source": []
  }
 ],
 "metadata": {
  "kernelspec": {
   "display_name": "Python 3 (ipykernel)",
   "language": "python",
   "name": "python3"
  },
  "language_info": {
   "codemirror_mode": {
    "name": "ipython",
    "version": 3
   },
   "file_extension": ".py",
   "mimetype": "text/x-python",
   "name": "python",
   "nbconvert_exporter": "python",
   "pygments_lexer": "ipython3",
   "version": "3.9.2"
  }
 },
 "nbformat": 4,
 "nbformat_minor": 5
}
