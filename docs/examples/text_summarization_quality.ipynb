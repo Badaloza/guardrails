{
 "cells": [
  {
   "attachments": {},
   "cell_type": "markdown",
   "metadata": {},
   "source": [
    "# Summarize text accurately\n",
    "\n",
    "!!! note\n",
    "    To download this example as a Jupyter notebook, click [here](https://github.com/ShreyaR/guardrails/blob/main/docs/examples/text_summarization_quality.ipynb).\n",
    "\n",
    "In this example, we will use Guardrails in the summarization of a text document. We will check whether the summarized document has a high semantic similarity with the original document.\n",
    "\n",
    "## Objective\n",
    "\n",
    "Summarize a text document and check whether the summarized document has a high semantic similarity with the original document.\n",
    "\n",
    "## Step 0: Setup\n",
    "\n",
    "In order to run this example, you will need to install the `numpy` package. You can do so by running the following commands:"
   ]
  },
  {
   "cell_type": "code",
   "execution_count": 7,
   "metadata": {},
   "outputs": [
    {
     "name": "stdout",
     "output_type": "stream",
     "text": [
      "Requirement already satisfied: numpy in /Users/calebcourier/Projects/shreyar/guardrails/.venv/lib/python3.11/site-packages (1.25.2)\n"
     ]
    }
   ],
   "source": [
    "!pip install numpy"
   ]
  },
  {
   "attachments": {},
   "cell_type": "markdown",
   "metadata": {},
   "source": [
    "## Step 1: Create the RAIL Spec\n",
    "\n",
    "Ordinarily, we would create an RAIL spec in a separate file. For the purposes of this example, we will create the spec in this notebook as a string following the RAIL syntax. For more information on RAIL, see the [RAIL documentation](../rail/output.md).  We will also show the same RAIL spec in a code-first format using a Pydantic model.\n",
    "\n",
    "In this RAIL spec, we:\n",
    "\n",
    "1. Create an `output` schema that returns a single key-value pair. The key should be 'summary', and the value should be the summary of the given document."
   ]
  },
  {
   "cell_type": "markdown",
   "metadata": {},
   "source": [
    "First let's open our document:"
   ]
  },
  {
   "cell_type": "code",
   "execution_count": 8,
   "metadata": {},
   "outputs": [
    {
     "data": {
      "text/html": [
       "<pre style=\"white-space:pre;overflow-x:auto;line-height:normal;font-family:Menlo,'DejaVu Sans Mono',consolas,'Courier New',monospace\">Section. <span style=\"color: #008080; text-decoration-color: #008080; font-weight: bold\">1</span>.\n",
       "All legislative Powers herein granted shall be vested in a Congress of the United States, which shall consist of a \n",
       "Senate and House of Representatives.\n",
       "\n",
       "Section. <span style=\"color: #008080; text-decoration-color: #008080; font-weight: bold\">2</span>.\n",
       "The House of Representatives shall be composed of Members chosen every second Year by the People of the several \n",
       "States, and the Electors in each State shall have the Qualifications requisite for Electors of the most numerous \n",
       "Branch of the State Legislature.\n",
       "\n",
       "No Person shall be a Representative who shall not have attained to the Age of twenty five Years, and been seven \n",
       "Years a Citizen of the United States, and who shall not, when elected, be an Inhabitant of that State in which he \n",
       "shall be chosen.\n",
       "\n",
       "Representatives and direct Taxes shall be apportioned among the several States which may be included within this \n",
       "Union, according to their respective Numbers, which shall be determined by adding to the whole Number of free \n",
       "Persons, including those bound to Service for a Term of Years, and excluding Indians not taxed, three fifths of all\n",
       "other Persons. The actual Enumeration shall be made within three Years after the first Meeting of the Congress of \n",
       "the United States, and within every subsequent Term of ten Years, in such Manner as they shall by Law direct. The \n",
       "Number of Representatives shall not exceed one for every thirty Thousand, but each State shall have at Least one \n",
       "Representative; and until such enumeration shall be made, the State of New Hampshire shall be entitled to chuse \n",
       "three, Massachusetts eight, Rhode-Island and Providence Plantations one, Connecticut five, New-York six, New Jersey\n",
       "four, Pennsylvania eight, Delaware one, Maryland six, Virginia ten, North Carolina five, South Carolina five, and \n",
       "Georgia three.\n",
       "\n",
       "When vacancies happen in the Representation from any State, the Executive Authority thereof shall issue Writs of \n",
       "Election to fill such Vacancies.\n",
       "\n",
       "The House of Representatives shall chuse their Speaker and other Officers; and shall have the sole Power of \n",
       "Impeachment.\n",
       "</pre>\n"
      ],
      "text/plain": [
       "Section. \u001b[1;36m1\u001b[0m.\n",
       "All legislative Powers herein granted shall be vested in a Congress of the United States, which shall consist of a \n",
       "Senate and House of Representatives.\n",
       "\n",
       "Section. \u001b[1;36m2\u001b[0m.\n",
       "The House of Representatives shall be composed of Members chosen every second Year by the People of the several \n",
       "States, and the Electors in each State shall have the Qualifications requisite for Electors of the most numerous \n",
       "Branch of the State Legislature.\n",
       "\n",
       "No Person shall be a Representative who shall not have attained to the Age of twenty five Years, and been seven \n",
       "Years a Citizen of the United States, and who shall not, when elected, be an Inhabitant of that State in which he \n",
       "shall be chosen.\n",
       "\n",
       "Representatives and direct Taxes shall be apportioned among the several States which may be included within this \n",
       "Union, according to their respective Numbers, which shall be determined by adding to the whole Number of free \n",
       "Persons, including those bound to Service for a Term of Years, and excluding Indians not taxed, three fifths of all\n",
       "other Persons. The actual Enumeration shall be made within three Years after the first Meeting of the Congress of \n",
       "the United States, and within every subsequent Term of ten Years, in such Manner as they shall by Law direct. The \n",
       "Number of Representatives shall not exceed one for every thirty Thousand, but each State shall have at Least one \n",
       "Representative; and until such enumeration shall be made, the State of New Hampshire shall be entitled to chuse \n",
       "three, Massachusetts eight, Rhode-Island and Providence Plantations one, Connecticut five, New-York six, New Jersey\n",
       "four, Pennsylvania eight, Delaware one, Maryland six, Virginia ten, North Carolina five, South Carolina five, and \n",
       "Georgia three.\n",
       "\n",
       "When vacancies happen in the Representation from any State, the Executive Authority thereof shall issue Writs of \n",
       "Election to fill such Vacancies.\n",
       "\n",
       "The House of Representatives shall chuse their Speaker and other Officers; and shall have the sole Power of \n",
       "Impeachment.\n"
      ]
     },
     "metadata": {},
     "output_type": "display_data"
    },
    {
     "data": {
      "text/html": [
       "<pre style=\"white-space:pre;overflow-x:auto;line-height:normal;font-family:Menlo,'DejaVu Sans Mono',consolas,'Courier New',monospace\">------------------------------------\n",
       "</pre>\n"
      ],
      "text/plain": [
       "------------------------------------\n"
      ]
     },
     "metadata": {},
     "output_type": "display_data"
    },
    {
     "data": {
      "text/html": [
       "<pre style=\"white-space:pre;overflow-x:auto;line-height:normal;font-family:Menlo,'DejaVu Sans Mono',consolas,'Courier New',monospace\">Section. <span style=\"color: #008080; text-decoration-color: #008080; font-weight: bold\">1.</span>All legislative Powers herein granted shall be vested in a Congress of the United States, which shall \n",
       "consist of a Senate and House of Representatives.Section. <span style=\"color: #008080; text-decoration-color: #008080; font-weight: bold\">2.</span>The House of Representatives shall be composed of \n",
       "Members chosen every second Year by the People of the several States, and the Electors in each State shall have the\n",
       "Qualifications requisite for Electors of the most numerous Branch of the State Legislature.No Person shall be a \n",
       "Representative who shall not have attained to the Age of twenty five Years, and been seven Years a Citizen of the \n",
       "United States, and who shall not, when elected, be an Inhabitant of that State in which he shall be \n",
       "chosen.Representatives and direct Taxes shall be apportioned among the several States which may be included within \n",
       "this Union, according to their respective Numbers, which shall be determined by adding to the whole Number of free \n",
       "Persons, including those bound to Service for a Term of Years, and excluding Indians not taxed, three fifths of all\n",
       "other Persons. The actual Enumeration shall be made within three Years after the first Meeting of the Congress of \n",
       "the United States, and within every subsequent Term of ten Years, in such Manner as they shall by Law direct. The \n",
       "Number of Representatives shall not exceed one for every thirty Thousand, but each State shall have at Least one \n",
       "Representative; and until such enumeration shall be made, the State of New Hampshire shall be entitled to chuse \n",
       "three, Massachusetts eight, Rhode-Island and Providence Plantations one, Connecticut five, New-York six, New Jersey\n",
       "four, Pennsylvania eight, Delaware one, Maryland six, Virginia ten, North Carolina five, South Carolina five, and \n",
       "Georgia three.When vacancies happen in the Representation from any State, the Executive Authority thereof shall \n",
       "issue Writs of Election to fill such Vacancies.The House of Representatives shall chuse their Speaker and other \n",
       "Officers; and shall have the sole Power of Impeachment.\n",
       "</pre>\n"
      ],
      "text/plain": [
       "Section. \u001b[1;36m1.\u001b[0mAll legislative Powers herein granted shall be vested in a Congress of the United States, which shall \n",
       "consist of a Senate and House of Representatives.Section. \u001b[1;36m2.\u001b[0mThe House of Representatives shall be composed of \n",
       "Members chosen every second Year by the People of the several States, and the Electors in each State shall have the\n",
       "Qualifications requisite for Electors of the most numerous Branch of the State Legislature.No Person shall be a \n",
       "Representative who shall not have attained to the Age of twenty five Years, and been seven Years a Citizen of the \n",
       "United States, and who shall not, when elected, be an Inhabitant of that State in which he shall be \n",
       "chosen.Representatives and direct Taxes shall be apportioned among the several States which may be included within \n",
       "this Union, according to their respective Numbers, which shall be determined by adding to the whole Number of free \n",
       "Persons, including those bound to Service for a Term of Years, and excluding Indians not taxed, three fifths of all\n",
       "other Persons. The actual Enumeration shall be made within three Years after the first Meeting of the Congress of \n",
       "the United States, and within every subsequent Term of ten Years, in such Manner as they shall by Law direct. The \n",
       "Number of Representatives shall not exceed one for every thirty Thousand, but each State shall have at Least one \n",
       "Representative; and until such enumeration shall be made, the State of New Hampshire shall be entitled to chuse \n",
       "three, Massachusetts eight, Rhode-Island and Providence Plantations one, Connecticut five, New-York six, New Jersey\n",
       "four, Pennsylvania eight, Delaware one, Maryland six, Virginia ten, North Carolina five, South Carolina five, and \n",
       "Georgia three.When vacancies happen in the Representation from any State, the Executive Authority thereof shall \n",
       "issue Writs of Election to fill such Vacancies.The House of Representatives shall chuse their Speaker and other \n",
       "Officers; and shall have the sole Power of Impeachment.\n"
      ]
     },
     "metadata": {},
     "output_type": "display_data"
    }
   ],
   "source": [
    "with open('data/article1.txt', 'r') as file:\n",
    "    document = file.read()\n",
    "    file.seek(0)\n",
    "    content = ''.join(line.strip() for line in file.readlines())\n",
    "\n",
    "print(document)\n",
    "print(\"------------------------------------\")\n",
    "print(content)"
   ]
  },
  {
   "cell_type": "markdown",
   "metadata": {},
   "source": [
    "Next we can define our RAIL spec either as a XML string:"
   ]
  },
  {
   "cell_type": "code",
   "execution_count": 9,
   "metadata": {},
   "outputs": [
    {
     "data": {
      "text/html": [
       "<pre style=\"white-space:pre;overflow-x:auto;line-height:normal;font-family:Menlo,'DejaVu Sans Mono',consolas,'Courier New',monospace\">\n",
       "<span style=\"font-weight: bold\">&lt;</span><span style=\"color: #ff00ff; text-decoration-color: #ff00ff; font-weight: bold\">rail</span><span style=\"color: #000000; text-decoration-color: #000000\"> </span><span style=\"color: #808000; text-decoration-color: #808000\">version</span><span style=\"color: #000000; text-decoration-color: #000000\">=</span><span style=\"color: #008000; text-decoration-color: #008000\">\"0.1\"</span><span style=\"color: #000000; text-decoration-color: #000000\">&gt;</span>\n",
       "\n",
       "<span style=\"color: #000000; text-decoration-color: #000000\">&lt;output&gt;</span>\n",
       "<span style=\"color: #000000; text-decoration-color: #000000\">    &lt;string</span>\n",
       "<span style=\"color: #000000; text-decoration-color: #000000\">        </span><span style=\"color: #808000; text-decoration-color: #808000\">name</span><span style=\"color: #000000; text-decoration-color: #000000\">=</span><span style=\"color: #008000; text-decoration-color: #008000\">\"summary\"</span>\n",
       "<span style=\"color: #000000; text-decoration-color: #000000\">        </span><span style=\"color: #808000; text-decoration-color: #808000\">description</span><span style=\"color: #000000; text-decoration-color: #000000\">=</span><span style=\"color: #008000; text-decoration-color: #008000\">\"Summarize the given document faithfully.\"</span>\n",
       "<span style=\"color: #000000; text-decoration-color: #000000\">        </span><span style=\"color: #808000; text-decoration-color: #808000\">format</span><span style=\"color: #000000; text-decoration-color: #000000\">=</span><span style=\"color: #800080; text-decoration-color: #800080\">\"similar</span><span style=\"color: #000000; text-decoration-color: #000000\">-to-document: 'Section. </span><span style=\"color: #008080; text-decoration-color: #008080; font-weight: bold\">1</span><span style=\"color: #000000; text-decoration-color: #000000\">.</span>\n",
       "<span style=\"color: #000000; text-decoration-color: #000000\">All legislative Powers herein granted shall be vested in a Congress of the United States, which shall consist of a </span>\n",
       "<span style=\"color: #000000; text-decoration-color: #000000\">Senate and House of Representatives.</span>\n",
       "\n",
       "<span style=\"color: #000000; text-decoration-color: #000000\">Section. </span><span style=\"color: #008080; text-decoration-color: #008080; font-weight: bold\">2</span><span style=\"color: #000000; text-decoration-color: #000000\">.</span>\n",
       "<span style=\"color: #000000; text-decoration-color: #000000\">The House of Representatives shall be composed of Members chosen every second Year by the People of the several </span>\n",
       "<span style=\"color: #000000; text-decoration-color: #000000\">States, and the Electors in each State shall have the Qualifications requisite for Electors of the most numerous </span>\n",
       "<span style=\"color: #000000; text-decoration-color: #000000\">Branch of the State Legislature.</span>\n",
       "\n",
       "<span style=\"color: #000000; text-decoration-color: #000000\">No Person shall be a Representative who shall not have attained to the Age of twenty five Years, and been seven </span>\n",
       "<span style=\"color: #000000; text-decoration-color: #000000\">Years a Citizen of the United States, and who shall not, when elected, be an Inhabitant of that State in which he </span>\n",
       "<span style=\"color: #000000; text-decoration-color: #000000\">shall be chosen.</span>\n",
       "\n",
       "<span style=\"color: #000000; text-decoration-color: #000000\">Representatives and direct Taxes shall be apportioned among the several States which may be included within this </span>\n",
       "<span style=\"color: #000000; text-decoration-color: #000000\">Union, according to their respective Numbers, which shall be determined by adding to the whole Number of free </span>\n",
       "<span style=\"color: #000000; text-decoration-color: #000000\">Persons, including those bound to Service for a Term of Years, and excluding Indians not taxed, three fifths of all</span>\n",
       "<span style=\"color: #000000; text-decoration-color: #000000\">other Persons. The actual Enumeration shall be made within three Years after the first Meeting of the Congress of </span>\n",
       "<span style=\"color: #000000; text-decoration-color: #000000\">the United States, and within every subsequent Term of ten Years, in such Manner as they shall by Law direct. The </span>\n",
       "<span style=\"color: #000000; text-decoration-color: #000000\">Number of Representatives shall not exceed one for every thirty Thousand, but each State shall have at Least one </span>\n",
       "<span style=\"color: #000000; text-decoration-color: #000000\">Representative; and until such enumeration shall be made, the State of New Hampshire shall be entitled to chuse </span>\n",
       "<span style=\"color: #000000; text-decoration-color: #000000\">three, Massachusetts eight, Rhode-Island and Providence Plantations one, Connecticut five, New-York six, New Jersey</span>\n",
       "<span style=\"color: #000000; text-decoration-color: #000000\">four, Pennsylvania eight, Delaware one, Maryland six, Virginia ten, North Carolina five, South Carolina five, and </span>\n",
       "<span style=\"color: #000000; text-decoration-color: #000000\">Georgia three.</span>\n",
       "\n",
       "<span style=\"color: #000000; text-decoration-color: #000000\">When vacancies happen in the Representation from any State, the Executive Authority thereof shall issue Writs of </span>\n",
       "<span style=\"color: #000000; text-decoration-color: #000000\">Election to fill such Vacancies.</span>\n",
       "\n",
       "<span style=\"color: #000000; text-decoration-color: #000000\">The House of Representatives shall chuse their Speaker and other Officers; and shall have the sole Power of </span>\n",
       "<span style=\"color: #000000; text-decoration-color: #000000\">Impeachment.', </span><span style=\"color: #008080; text-decoration-color: #008080; font-weight: bold\">0.60</span><span style=\"color: #000000; text-decoration-color: #000000\">\"</span>\n",
       "<span style=\"color: #000000; text-decoration-color: #000000\">        on-fail-similar-to-</span><span style=\"color: #808000; text-decoration-color: #808000\">document</span><span style=\"color: #000000; text-decoration-color: #000000\">=</span><span style=\"color: #008000; text-decoration-color: #008000\">\"filter\"</span><span style=\"color: #000000; text-decoration-color: #000000\"> </span>\n",
       "<span style=\"color: #000000; text-decoration-color: #000000\">    </span><span style=\"color: #800080; text-decoration-color: #800080\">/</span><span style=\"color: #000000; text-decoration-color: #000000\">&gt;</span>\n",
       "<span style=\"color: #000000; text-decoration-color: #000000\">&lt;</span><span style=\"color: #800080; text-decoration-color: #800080\">/</span><span style=\"color: #ff00ff; text-decoration-color: #ff00ff\">output</span><span style=\"color: #000000; text-decoration-color: #000000\">&gt;</span>\n",
       "\n",
       "<span style=\"color: #000000; text-decoration-color: #000000\">&lt;prompt&gt;</span>\n",
       "<span style=\"color: #000000; text-decoration-color: #000000\">Summarize the following document:</span>\n",
       "\n",
       "<span style=\"color: #000000; text-decoration-color: #000000\">Section. </span><span style=\"color: #008080; text-decoration-color: #008080; font-weight: bold\">1</span><span style=\"color: #000000; text-decoration-color: #000000\">.</span>\n",
       "<span style=\"color: #000000; text-decoration-color: #000000\">All legislative Powers herein granted shall be vested in a Congress of the United States, which shall consist of a </span>\n",
       "<span style=\"color: #000000; text-decoration-color: #000000\">Senate and House of Representatives.</span>\n",
       "\n",
       "<span style=\"color: #000000; text-decoration-color: #000000\">Section. </span><span style=\"color: #008080; text-decoration-color: #008080; font-weight: bold\">2</span><span style=\"color: #000000; text-decoration-color: #000000\">.</span>\n",
       "<span style=\"color: #000000; text-decoration-color: #000000\">The House of Representatives shall be composed of Members chosen every second Year by the People of the several </span>\n",
       "<span style=\"color: #000000; text-decoration-color: #000000\">States, and the Electors in each State shall have the Qualifications requisite for Electors of the most numerous </span>\n",
       "<span style=\"color: #000000; text-decoration-color: #000000\">Branch of the State Legislature.</span>\n",
       "\n",
       "<span style=\"color: #000000; text-decoration-color: #000000\">No Person shall be a Representative who shall not have attained to the Age of twenty five Years, and been seven </span>\n",
       "<span style=\"color: #000000; text-decoration-color: #000000\">Years a Citizen of the United States, and who shall not, when elected, be an Inhabitant of that State in which he </span>\n",
       "<span style=\"color: #000000; text-decoration-color: #000000\">shall be chosen.</span>\n",
       "\n",
       "<span style=\"color: #000000; text-decoration-color: #000000\">Representatives and direct Taxes shall be apportioned among the several States which may be included within this </span>\n",
       "<span style=\"color: #000000; text-decoration-color: #000000\">Union, according to their respective Numbers, which shall be determined by adding to the whole Number of free </span>\n",
       "<span style=\"color: #000000; text-decoration-color: #000000\">Persons, including those bound to Service for a Term of Years, and excluding Indians not taxed, three fifths of all</span>\n",
       "<span style=\"color: #000000; text-decoration-color: #000000\">other Persons. The actual Enumeration shall be made within three Years after the first Meeting of the Congress of </span>\n",
       "<span style=\"color: #000000; text-decoration-color: #000000\">the United States, and within every subsequent Term of ten Years, in such Manner as they shall by Law direct. The </span>\n",
       "<span style=\"color: #000000; text-decoration-color: #000000\">Number of Representatives shall not exceed one for every thirty Thousand, but each State shall have at Least one </span>\n",
       "<span style=\"color: #000000; text-decoration-color: #000000\">Representative; and until such enumeration shall be made, the State of New Hampshire shall be entitled to chuse </span>\n",
       "<span style=\"color: #000000; text-decoration-color: #000000\">three, Massachusetts eight, Rhode-Island and Providence Plantations one, Connecticut five, New-York six, New Jersey</span>\n",
       "<span style=\"color: #000000; text-decoration-color: #000000\">four, Pennsylvania eight, Delaware one, Maryland six, Virginia ten, North Carolina five, South Carolina five, and </span>\n",
       "<span style=\"color: #000000; text-decoration-color: #000000\">Georgia three.</span>\n",
       "\n",
       "<span style=\"color: #000000; text-decoration-color: #000000\">When vacancies happen in the Representation from any State, the Executive Authority thereof shall issue Writs of </span>\n",
       "<span style=\"color: #000000; text-decoration-color: #000000\">Election to fill such Vacancies.</span>\n",
       "\n",
       "<span style=\"color: #000000; text-decoration-color: #000000\">The House of Representatives shall chuse their Speaker and other Officers; and shall have the sole Power of </span>\n",
       "<span style=\"color: #000000; text-decoration-color: #000000\">Impeachment.</span>\n",
       "\n",
       "<span style=\"color: #000000; text-decoration-color: #000000\">$</span><span style=\"color: #000000; text-decoration-color: #000000; font-weight: bold\">{</span><span style=\"color: #000000; text-decoration-color: #000000\">gr.complete_json_suffix</span><span style=\"color: #000000; text-decoration-color: #000000; font-weight: bold\">}</span>\n",
       "<span style=\"color: #000000; text-decoration-color: #000000\">&lt;</span><span style=\"color: #800080; text-decoration-color: #800080\">/</span><span style=\"color: #ff00ff; text-decoration-color: #ff00ff\">prompt</span><span style=\"color: #000000; text-decoration-color: #000000\">&gt;</span>\n",
       "<span style=\"color: #000000; text-decoration-color: #000000\">&lt;</span><span style=\"color: #800080; text-decoration-color: #800080\">/</span><span style=\"color: #ff00ff; text-decoration-color: #ff00ff\">rail</span><span style=\"font-weight: bold\">&gt;</span>\n",
       "\n",
       "</pre>\n"
      ],
      "text/plain": [
       "\n",
       "\u001b[1m<\u001b[0m\u001b[1;95mrail\u001b[0m\u001b[39m \u001b[0m\u001b[33mversion\u001b[0m\u001b[39m=\u001b[0m\u001b[32m\"0\u001b[0m\u001b[32m.1\"\u001b[0m\u001b[39m>\u001b[0m\n",
       "\n",
       "\u001b[39m<output>\u001b[0m\n",
       "\u001b[39m    <string\u001b[0m\n",
       "\u001b[39m        \u001b[0m\u001b[33mname\u001b[0m\u001b[39m=\u001b[0m\u001b[32m\"summary\"\u001b[0m\n",
       "\u001b[39m        \u001b[0m\u001b[33mdescription\u001b[0m\u001b[39m=\u001b[0m\u001b[32m\"Summarize\u001b[0m\u001b[32m the given document faithfully.\"\u001b[0m\n",
       "\u001b[39m        \u001b[0m\u001b[33mformat\u001b[0m\u001b[39m=\u001b[0m\u001b[35m\"similar\u001b[0m\u001b[39m-to-document: 'Section. \u001b[0m\u001b[1;36m1\u001b[0m\u001b[39m.\u001b[0m\n",
       "\u001b[39mAll legislative Powers herein granted shall be vested in a Congress of the United States, which shall consist of a \u001b[0m\n",
       "\u001b[39mSenate and House of Representatives.\u001b[0m\n",
       "\n",
       "\u001b[39mSection. \u001b[0m\u001b[1;36m2\u001b[0m\u001b[39m.\u001b[0m\n",
       "\u001b[39mThe House of Representatives shall be composed of Members chosen every second Year by the People of the several \u001b[0m\n",
       "\u001b[39mStates, and the Electors in each State shall have the Qualifications requisite for Electors of the most numerous \u001b[0m\n",
       "\u001b[39mBranch of the State Legislature.\u001b[0m\n",
       "\n",
       "\u001b[39mNo Person shall be a Representative who shall not have attained to the Age of twenty five Years, and been seven \u001b[0m\n",
       "\u001b[39mYears a Citizen of the United States, and who shall not, when elected, be an Inhabitant of that State in which he \u001b[0m\n",
       "\u001b[39mshall be chosen.\u001b[0m\n",
       "\n",
       "\u001b[39mRepresentatives and direct Taxes shall be apportioned among the several States which may be included within this \u001b[0m\n",
       "\u001b[39mUnion, according to their respective Numbers, which shall be determined by adding to the whole Number of free \u001b[0m\n",
       "\u001b[39mPersons, including those bound to Service for a Term of Years, and excluding Indians not taxed, three fifths of all\u001b[0m\n",
       "\u001b[39mother Persons. The actual Enumeration shall be made within three Years after the first Meeting of the Congress of \u001b[0m\n",
       "\u001b[39mthe United States, and within every subsequent Term of ten Years, in such Manner as they shall by Law direct. The \u001b[0m\n",
       "\u001b[39mNumber of Representatives shall not exceed one for every thirty Thousand, but each State shall have at Least one \u001b[0m\n",
       "\u001b[39mRepresentative; and until such enumeration shall be made, the State of New Hampshire shall be entitled to chuse \u001b[0m\n",
       "\u001b[39mthree, Massachusetts eight, Rhode-Island and Providence Plantations one, Connecticut five, New-York six, New Jersey\u001b[0m\n",
       "\u001b[39mfour, Pennsylvania eight, Delaware one, Maryland six, Virginia ten, North Carolina five, South Carolina five, and \u001b[0m\n",
       "\u001b[39mGeorgia three.\u001b[0m\n",
       "\n",
       "\u001b[39mWhen vacancies happen in the Representation from any State, the Executive Authority thereof shall issue Writs of \u001b[0m\n",
       "\u001b[39mElection to fill such Vacancies.\u001b[0m\n",
       "\n",
       "\u001b[39mThe House of Representatives shall chuse their Speaker and other Officers; and shall have the sole Power of \u001b[0m\n",
       "\u001b[39mImpeachment.', \u001b[0m\u001b[1;36m0.60\u001b[0m\u001b[39m\"\u001b[0m\n",
       "\u001b[39m        on-fail-similar-to-\u001b[0m\u001b[33mdocument\u001b[0m\u001b[39m=\u001b[0m\u001b[32m\"filter\"\u001b[0m\u001b[39m \u001b[0m\n",
       "\u001b[39m    \u001b[0m\u001b[35m/\u001b[0m\u001b[39m>\u001b[0m\n",
       "\u001b[39m<\u001b[0m\u001b[35m/\u001b[0m\u001b[95moutput\u001b[0m\u001b[39m>\u001b[0m\n",
       "\n",
       "\u001b[39m<prompt>\u001b[0m\n",
       "\u001b[39mSummarize the following document:\u001b[0m\n",
       "\n",
       "\u001b[39mSection. \u001b[0m\u001b[1;36m1\u001b[0m\u001b[39m.\u001b[0m\n",
       "\u001b[39mAll legislative Powers herein granted shall be vested in a Congress of the United States, which shall consist of a \u001b[0m\n",
       "\u001b[39mSenate and House of Representatives.\u001b[0m\n",
       "\n",
       "\u001b[39mSection. \u001b[0m\u001b[1;36m2\u001b[0m\u001b[39m.\u001b[0m\n",
       "\u001b[39mThe House of Representatives shall be composed of Members chosen every second Year by the People of the several \u001b[0m\n",
       "\u001b[39mStates, and the Electors in each State shall have the Qualifications requisite for Electors of the most numerous \u001b[0m\n",
       "\u001b[39mBranch of the State Legislature.\u001b[0m\n",
       "\n",
       "\u001b[39mNo Person shall be a Representative who shall not have attained to the Age of twenty five Years, and been seven \u001b[0m\n",
       "\u001b[39mYears a Citizen of the United States, and who shall not, when elected, be an Inhabitant of that State in which he \u001b[0m\n",
       "\u001b[39mshall be chosen.\u001b[0m\n",
       "\n",
       "\u001b[39mRepresentatives and direct Taxes shall be apportioned among the several States which may be included within this \u001b[0m\n",
       "\u001b[39mUnion, according to their respective Numbers, which shall be determined by adding to the whole Number of free \u001b[0m\n",
       "\u001b[39mPersons, including those bound to Service for a Term of Years, and excluding Indians not taxed, three fifths of all\u001b[0m\n",
       "\u001b[39mother Persons. The actual Enumeration shall be made within three Years after the first Meeting of the Congress of \u001b[0m\n",
       "\u001b[39mthe United States, and within every subsequent Term of ten Years, in such Manner as they shall by Law direct. The \u001b[0m\n",
       "\u001b[39mNumber of Representatives shall not exceed one for every thirty Thousand, but each State shall have at Least one \u001b[0m\n",
       "\u001b[39mRepresentative; and until such enumeration shall be made, the State of New Hampshire shall be entitled to chuse \u001b[0m\n",
       "\u001b[39mthree, Massachusetts eight, Rhode-Island and Providence Plantations one, Connecticut five, New-York six, New Jersey\u001b[0m\n",
       "\u001b[39mfour, Pennsylvania eight, Delaware one, Maryland six, Virginia ten, North Carolina five, South Carolina five, and \u001b[0m\n",
       "\u001b[39mGeorgia three.\u001b[0m\n",
       "\n",
       "\u001b[39mWhen vacancies happen in the Representation from any State, the Executive Authority thereof shall issue Writs of \u001b[0m\n",
       "\u001b[39mElection to fill such Vacancies.\u001b[0m\n",
       "\n",
       "\u001b[39mThe House of Representatives shall chuse their Speaker and other Officers; and shall have the sole Power of \u001b[0m\n",
       "\u001b[39mImpeachment.\u001b[0m\n",
       "\n",
       "\u001b[39m$\u001b[0m\u001b[1;39m{\u001b[0m\u001b[39mgr.complete_json_suffix\u001b[0m\u001b[1;39m}\u001b[0m\n",
       "\u001b[39m<\u001b[0m\u001b[35m/\u001b[0m\u001b[95mprompt\u001b[0m\u001b[39m>\u001b[0m\n",
       "\u001b[39m<\u001b[0m\u001b[35m/\u001b[0m\u001b[95mrail\u001b[0m\u001b[1m>\u001b[0m\n",
       "\n"
      ]
     },
     "metadata": {},
     "output_type": "display_data"
    }
   ],
   "source": [
    "from string import Template\n",
    "\n",
    "rail_str = Template(\"\"\"\n",
    "<rail version=\"0.1\">\n",
    "\n",
    "<output>\n",
    "    <string\n",
    "        name=\"summary\"\n",
    "        description=\"Summarize the given document faithfully.\"\n",
    "        format=\"similar-to-document: '${document}', 0.60\"\n",
    "        on-fail-similar-to-document=\"filter\" \n",
    "    />\n",
    "</output>\n",
    "\n",
    "<prompt>\n",
    "Summarize the following document:\n",
    "\n",
    "${document}\n",
    "\n",
    "${gr.complete_json_suffix}\n",
    "</prompt>\n",
    "</rail>\n",
    "\"\"\").safe_substitute(document=document)\n",
    "\n",
    "print(rail_str)"
   ]
  },
  {
   "cell_type": "markdown",
   "metadata": {},
   "source": [
    "Or as a Pydantic model:"
   ]
  },
  {
   "cell_type": "code",
   "execution_count": 10,
   "metadata": {},
   "outputs": [],
   "source": [
    "from pydantic import BaseModel, Field\n",
    "from guardrails.validators import SimilarToDocument\n",
    "\n",
    "prompt = \"\"\"\n",
    "Summarize the following document:\n",
    "\n",
    "${document}\n",
    "\n",
    "${gr.complete_json_suffix}\n",
    "\"\"\"\n",
    "\n",
    "class DocumentSummary(BaseModel):\n",
    "    summary: str = Field(\n",
    "        description=\"Summarize the given document faithfully.\",\n",
    "        validators=[SimilarToDocument(document=document, threshold=0.60, on_fail=\"filter\")]\n",
    "    )"
   ]
  },
  {
   "attachments": {},
   "cell_type": "markdown",
   "metadata": {},
   "source": [
    "!!! note\n",
    "\n",
    "    In order to ensure the summary is similar to the document, we use `similar-to-document` as the validator. This validator embeds the document and the summary and checks whether the cosine similarity between the two embeddings is above a threshold."
   ]
  },
  {
   "cell_type": "markdown",
   "metadata": {},
   "source": [
    "## Step 2: Create a `Guard` object with the RAIL Spec\n",
    "\n",
    "We create a `gd.Guard` object that will check, validate and correct the output of the LLM. This object:\n",
    "\n",
    "1. Enforces the quality criteria specified in the RAIL spec.\n",
    "2. Takes corrective action when the quality criteria are not met.\n",
    "3. Compiles the schema and type info from the RAIL spec and adds it to the prompt."
   ]
  },
  {
   "cell_type": "code",
   "execution_count": 11,
   "metadata": {},
   "outputs": [],
   "source": [
    "import guardrails as gd\n",
    "\n",
    "from rich import print"
   ]
  },
  {
   "cell_type": "markdown",
   "metadata": {},
   "source": [
    "From our RAIL string:"
   ]
  },
  {
   "cell_type": "code",
   "execution_count": 12,
   "metadata": {},
   "outputs": [
    {
     "name": "stdout",
     "output_type": "stream",
     "text": [
      "format tokens:  [\"similar-to-document: 'Section. 1. All legislative Powers herein granted shall be vested in a Congress of the United States, which shall consist of a Senate and House of Representatives.  Section. 2. The House of Representatives shall be composed of Members chosen every second Year by the People of the several States, and the Electors in each State shall have the Qualifications requisite for Electors of the most numerous Branch of the State Legislature.  No Person shall be a Representative who shall not have attained to the Age of twenty five Years, and been seven Years a Citizen of the United States, and who shall not, when elected, be an Inhabitant of that State in which he shall be chosen.  Representatives and direct Taxes shall be apportioned among the several States which may be included within this Union, according to their respective Numbers, which shall be determined by adding to the whole Number of free Persons, including those bound to Service for a Term of Years, and excluding Indians not taxed, three fifths of all other Persons. The actual Enumeration shall be made within three Years after the first Meeting of the Congress of the United States, and within every subsequent Term of ten Years, in such Manner as they shall by Law direct. The Number of Representatives shall not exceed one for every thirty Thousand, but each State shall have at Least one Representative\", ' and until such enumeration shall be made, the State of New Hampshire shall be entitled to chuse three, Massachusetts eight, Rhode-Island and Providence Plantations one, Connecticut five, New-York six, New Jersey four, Pennsylvania eight, Delaware one, Maryland six, Virginia ten, North Carolina five, South Carolina five, and Georgia three.  When vacancies happen in the Representation from any State, the Executive Authority thereof shall issue Writs of Election to fill such Vacancies.  The House of Representatives shall chuse their Speaker and other Officers', \" and shall have the sole Power of Impeachment.', 0.60\"]\n",
      "args_token:   'Section. 1. All legislative Powers herein granted shall be vested in a Congress of the United States, which shall consist of a Senate and House of Representatives.  Section. 2. The House of Representatives shall be composed of Members chosen every second Year by the People of the several States, and the Electors in each State shall have the Qualifications requisite for Electors of the most numerous Branch of the State Legislature.  No Person shall be a Representative who shall not have attained to the Age of twenty five Years, and been seven Years a Citizen of the United States, and who shall not, when elected, be an Inhabitant of that State in which he shall be chosen.  Representatives and direct Taxes shall be apportioned among the several States which may be included within this Union, according to their respective Numbers, which shall be determined by adding to the whole Number of free Persons, including those bound to Service for a Term of Years, and excluding Indians not taxed, three fifths of all other Persons. The actual Enumeration shall be made within three Years after the first Meeting of the Congress of the United States, and within every subsequent Term of ten Years, in such Manner as they shall by Law direct. The Number of Representatives shall not exceed one for every thirty Thousand, but each State shall have at Least one Representative\n",
      "tokens:  ['', \"'Section.\", '1.', 'All', 'legislative', 'Powers', 'herein', 'granted', 'shall', 'be', 'vested', 'in', 'a', 'Congress', 'of', 'the', 'United', 'States,', 'which', 'shall', 'consist', 'of', 'a', 'Senate', 'and', 'House', 'of', 'Representatives.', '', 'Section.', '2.', 'The', 'House', 'of', 'Representatives', 'shall', 'be', 'composed', 'of', 'Members', 'chosen', 'every', 'second', 'Year', 'by', 'the', 'People', 'of', 'the', 'several', 'States,', 'and', 'the', 'Electors', 'in', 'each', 'State', 'shall', 'have', 'the', 'Qualifications', 'requisite', 'for', 'Electors', 'of', 'the', 'most', 'numerous', 'Branch', 'of', 'the', 'State', 'Legislature.', '', 'No', 'Person', 'shall', 'be', 'a', 'Representative', 'who', 'shall', 'not', 'have', 'attained', 'to', 'the', 'Age', 'of', 'twenty', 'five', 'Years,', 'and', 'been', 'seven', 'Years', 'a', 'Citizen', 'of', 'the', 'United', 'States,', 'and', 'who', 'shall', 'not,', 'when', 'elected,', 'be', 'an', 'Inhabitant', 'of', 'that', 'State', 'in', 'which', 'he', 'shall', 'be', 'chosen.', '', 'Representatives', 'and', 'direct', 'Taxes', 'shall', 'be', 'apportioned', 'among', 'the', 'several', 'States', 'which', 'may', 'be', 'included', 'within', 'this', 'Union,', 'according', 'to', 'their', 'respective', 'Numbers,', 'which', 'shall', 'be', 'determined', 'by', 'adding', 'to', 'the', 'whole', 'Number', 'of', 'free', 'Persons,', 'including', 'those', 'bound', 'to', 'Service', 'for', 'a', 'Term', 'of', 'Years,', 'and', 'excluding', 'Indians', 'not', 'taxed,', 'three', 'fifths', 'of', 'all', 'other', 'Persons.', 'The', 'actual', 'Enumeration', 'shall', 'be', 'made', 'within', 'three', 'Years', 'after', 'the', 'first', 'Meeting', 'of', 'the', 'Congress', 'of', 'the', 'United', 'States,', 'and', 'within', 'every', 'subsequent', 'Term', 'of', 'ten', 'Years,', 'in', 'such', 'Manner', 'as', 'they', 'shall', 'by', 'Law', 'direct.', 'The', 'Number', 'of', 'Representatives', 'shall', 'not', 'exceed', 'one', 'for', 'every', 'thirty', 'Thousand,', 'but', 'each', 'State', 'shall', 'have', 'at', 'Least', 'one', 'Representative']\n",
      "args:  [\"'Section.\", '1.', 'All', 'legislative', 'Powers', 'herein', 'granted', 'shall', 'be', 'vested', 'in', 'a', 'Congress', 'of', 'the', 'United', 'States,', 'which', 'shall', 'consist', 'of', 'a', 'Senate', 'and', 'House', 'of', 'Representatives.', 'Section.', '2.', 'The', 'House', 'of', 'Representatives', 'shall', 'be', 'composed', 'of', 'Members', 'chosen', 'every', 'second', 'Year', 'by', 'the', 'People', 'of', 'the', 'several', 'States,', 'and', 'the', 'Electors', 'in', 'each', 'State', 'shall', 'have', 'the', 'Qualifications', 'requisite', 'for', 'Electors', 'of', 'the', 'most', 'numerous', 'Branch', 'of', 'the', 'State', 'Legislature.', 'No', 'Person', 'shall', 'be', 'a', 'Representative', 'who', 'shall', 'not', 'have', 'attained', 'to', 'the', 'Age', 'of', 'twenty', 'five', 'Years,', 'and', 'been', 'seven', 'Years', 'a', 'Citizen', 'of', 'the', 'United', 'States,', 'and', 'who', 'shall', 'not,', 'when', 'elected,', 'be', 'an', 'Inhabitant', 'of', 'that', 'State', 'in', 'which', 'he', 'shall', 'be', 'chosen.', 'Representatives', 'and', 'direct', 'Taxes', 'shall', 'be', 'apportioned', 'among', 'the', 'several', 'States', 'which', 'may', 'be', 'included', 'within', 'this', 'Union,', 'according', 'to', 'their', 'respective', 'Numbers,', 'which', 'shall', 'be', 'determined', 'by', 'adding', 'to', 'the', 'whole', 'Number', 'of', 'free', 'Persons,', 'including', 'those', 'bound', 'to', 'Service', 'for', 'a', 'Term', 'of', 'Years,', 'and', 'excluding', 'Indians', 'not', 'taxed,', 'three', 'fifths', 'of', 'all', 'other', 'Persons.', 'The', 'actual', 'Enumeration', 'shall', 'be', 'made', 'within', 'three', 'Years', 'after', 'the', 'first', 'Meeting', 'of', 'the', 'Congress', 'of', 'the', 'United', 'States,', 'and', 'within', 'every', 'subsequent', 'Term', 'of', 'ten', 'Years,', 'in', 'such', 'Manner', 'as', 'they', 'shall', 'by', 'Law', 'direct.', 'The', 'Number', 'of', 'Representatives', 'shall', 'not', 'exceed', 'one', 'for', 'every', 'thirty', 'Thousand,', 'but', 'each', 'State', 'shall', 'have', 'at', 'Least', 'one', 'Representative']\n",
      "validator_name similar-to-document\n",
      "args [\"'Section.\", '1.', 'All', 'legislative', 'Powers', 'herein', 'granted', 'shall', 'be', 'vested', 'in', 'a', 'Congress', 'of', 'the', 'United', 'States,', 'which', 'shall', 'consist', 'of', 'a', 'Senate', 'and', 'House', 'of', 'Representatives.', 'Section.', '2.', 'The', 'House', 'of', 'Representatives', 'shall', 'be', 'composed', 'of', 'Members', 'chosen', 'every', 'second', 'Year', 'by', 'the', 'People', 'of', 'the', 'several', 'States,', 'and', 'the', 'Electors', 'in', 'each', 'State', 'shall', 'have', 'the', 'Qualifications', 'requisite', 'for', 'Electors', 'of', 'the', 'most', 'numerous', 'Branch', 'of', 'the', 'State', 'Legislature.', 'No', 'Person', 'shall', 'be', 'a', 'Representative', 'who', 'shall', 'not', 'have', 'attained', 'to', 'the', 'Age', 'of', 'twenty', 'five', 'Years,', 'and', 'been', 'seven', 'Years', 'a', 'Citizen', 'of', 'the', 'United', 'States,', 'and', 'who', 'shall', 'not,', 'when', 'elected,', 'be', 'an', 'Inhabitant', 'of', 'that', 'State', 'in', 'which', 'he', 'shall', 'be', 'chosen.', 'Representatives', 'and', 'direct', 'Taxes', 'shall', 'be', 'apportioned', 'among', 'the', 'several', 'States', 'which', 'may', 'be', 'included', 'within', 'this', 'Union,', 'according', 'to', 'their', 'respective', 'Numbers,', 'which', 'shall', 'be', 'determined', 'by', 'adding', 'to', 'the', 'whole', 'Number', 'of', 'free', 'Persons,', 'including', 'those', 'bound', 'to', 'Service', 'for', 'a', 'Term', 'of', 'Years,', 'and', 'excluding', 'Indians', 'not', 'taxed,', 'three', 'fifths', 'of', 'all', 'other', 'Persons.', 'The', 'actual', 'Enumeration', 'shall', 'be', 'made', 'within', 'three', 'Years', 'after', 'the', 'first', 'Meeting', 'of', 'the', 'Congress', 'of', 'the', 'United', 'States,', 'and', 'within', 'every', 'subsequent', 'Term', 'of', 'ten', 'Years,', 'in', 'such', 'Manner', 'as', 'they', 'shall', 'by', 'Law', 'direct.', 'The', 'Number', 'of', 'Representatives', 'shall', 'not', 'exceed', 'one', 'for', 'every', 'thirty', 'Thousand,', 'but', 'each', 'State', 'shall', 'have', 'at', 'Least', 'one', 'Representative']\n"
     ]
    },
    {
     "ename": "TypeError",
     "evalue": "SimilarToDocument.__init__() got multiple values for argument 'on_fail'",
     "output_type": "error",
     "traceback": [
      "\u001b[0;31m---------------------------------------------------------------------------\u001b[0m",
      "\u001b[0;31mTypeError\u001b[0m                                 Traceback (most recent call last)",
      "Cell \u001b[0;32mIn[12], line 1\u001b[0m\n\u001b[0;32m----> 1\u001b[0m guard \u001b[39m=\u001b[39m gd\u001b[39m.\u001b[39;49mGuard\u001b[39m.\u001b[39;49mfrom_rail_string(rail_str)\n",
      "File \u001b[0;32m~/Projects/shreyar/guardrails/guardrails/guard.py:164\u001b[0m, in \u001b[0;36mGuard.from_rail_string\u001b[0;34m(cls, rail_string, num_reasks)\u001b[0m\n\u001b[1;32m    153\u001b[0m \u001b[39m@classmethod\u001b[39m\n\u001b[1;32m    154\u001b[0m \u001b[39mdef\u001b[39;00m \u001b[39mfrom_rail_string\u001b[39m(\u001b[39mcls\u001b[39m, rail_string: \u001b[39mstr\u001b[39m, num_reasks: \u001b[39mint\u001b[39m \u001b[39m=\u001b[39m \u001b[39mNone\u001b[39;00m) \u001b[39m-\u001b[39m\u001b[39m>\u001b[39m \u001b[39m\"\u001b[39m\u001b[39mGuard\u001b[39m\u001b[39m\"\u001b[39m:\n\u001b[1;32m    155\u001b[0m \u001b[39m    \u001b[39m\u001b[39m\"\"\"Create a Schema from a `.rail` string.\u001b[39;00m\n\u001b[1;32m    156\u001b[0m \n\u001b[1;32m    157\u001b[0m \u001b[39m    Args:\u001b[39;00m\n\u001b[0;32m   (...)\u001b[0m\n\u001b[1;32m    162\u001b[0m \u001b[39m        An instance of the `Guard` class.\u001b[39;00m\n\u001b[1;32m    163\u001b[0m \u001b[39m    \"\"\"\u001b[39;00m\n\u001b[0;32m--> 164\u001b[0m     \u001b[39mreturn\u001b[39;00m \u001b[39mcls\u001b[39m(Rail\u001b[39m.\u001b[39;49mfrom_string(rail_string), num_reasks\u001b[39m=\u001b[39mnum_reasks)\n",
      "File \u001b[0;32m~/Projects/shreyar/guardrails/guardrails/rail.py:68\u001b[0m, in \u001b[0;36mRail.from_string\u001b[0;34m(cls, string)\u001b[0m\n\u001b[1;32m     66\u001b[0m \u001b[39m@classmethod\u001b[39m\n\u001b[1;32m     67\u001b[0m \u001b[39mdef\u001b[39;00m \u001b[39mfrom_string\u001b[39m(\u001b[39mcls\u001b[39m, string: \u001b[39mstr\u001b[39m) \u001b[39m-\u001b[39m\u001b[39m>\u001b[39m \u001b[39m\"\u001b[39m\u001b[39mRail\u001b[39m\u001b[39m\"\u001b[39m:\n\u001b[0;32m---> 68\u001b[0m     \u001b[39mreturn\u001b[39;00m \u001b[39mcls\u001b[39;49m\u001b[39m.\u001b[39;49mfrom_xml(ET\u001b[39m.\u001b[39;49mfromstring(string, parser\u001b[39m=\u001b[39;49mXMLPARSER))\n",
      "File \u001b[0;32m~/Projects/shreyar/guardrails/guardrails/rail.py:99\u001b[0m, in \u001b[0;36mRail.from_xml\u001b[0;34m(cls, xml)\u001b[0m\n\u001b[1;32m     97\u001b[0m \u001b[39mif\u001b[39;00m reask_instructions \u001b[39mis\u001b[39;00m \u001b[39mnot\u001b[39;00m \u001b[39mNone\u001b[39;00m:\n\u001b[1;32m     98\u001b[0m     reask_instructions \u001b[39m=\u001b[39m reask_instructions\u001b[39m.\u001b[39mtext\n\u001b[0;32m---> 99\u001b[0m output_schema \u001b[39m=\u001b[39m \u001b[39mcls\u001b[39;49m\u001b[39m.\u001b[39;49mload_output_schema(\n\u001b[1;32m    100\u001b[0m     raw_output_schema,\n\u001b[1;32m    101\u001b[0m     reask_prompt\u001b[39m=\u001b[39;49mreask_prompt,\n\u001b[1;32m    102\u001b[0m     reask_instructions\u001b[39m=\u001b[39;49mreask_instructions,\n\u001b[1;32m    103\u001b[0m )\n\u001b[1;32m    105\u001b[0m \u001b[39m# Parse instructions for the LLM. These are optional but if given,\u001b[39;00m\n\u001b[1;32m    106\u001b[0m \u001b[39m# LLMs can use them to improve their output. Commonly these are\u001b[39;00m\n\u001b[1;32m    107\u001b[0m \u001b[39m# prepended to the prompt.\u001b[39;00m\n\u001b[1;32m    108\u001b[0m instructions \u001b[39m=\u001b[39m xml\u001b[39m.\u001b[39mfind(\u001b[39m\"\u001b[39m\u001b[39minstructions\u001b[39m\u001b[39m\"\u001b[39m)\n",
      "File \u001b[0;32m~/Projects/shreyar/guardrails/guardrails/rail.py:182\u001b[0m, in \u001b[0;36mRail.load_output_schema\u001b[0;34m(root, reask_prompt, reask_instructions)\u001b[0m\n\u001b[1;32m    176\u001b[0m \u001b[39mif\u001b[39;00m \u001b[39m\"\u001b[39m\u001b[39mtype\u001b[39m\u001b[39m\"\u001b[39m \u001b[39min\u001b[39;00m root\u001b[39m.\u001b[39mattrib \u001b[39mand\u001b[39;00m root\u001b[39m.\u001b[39mattrib[\u001b[39m\"\u001b[39m\u001b[39mtype\u001b[39m\u001b[39m\"\u001b[39m] \u001b[39m==\u001b[39m \u001b[39m\"\u001b[39m\u001b[39mstring\u001b[39m\u001b[39m\"\u001b[39m:\n\u001b[1;32m    177\u001b[0m     \u001b[39mreturn\u001b[39;00m StringSchema(\n\u001b[1;32m    178\u001b[0m         root,\n\u001b[1;32m    179\u001b[0m         reask_prompt_template\u001b[39m=\u001b[39mreask_prompt,\n\u001b[1;32m    180\u001b[0m         reask_instructions_template\u001b[39m=\u001b[39mreask_instructions,\n\u001b[1;32m    181\u001b[0m     )\n\u001b[0;32m--> 182\u001b[0m \u001b[39mreturn\u001b[39;00m JsonSchema(\n\u001b[1;32m    183\u001b[0m     root,\n\u001b[1;32m    184\u001b[0m     reask_prompt_template\u001b[39m=\u001b[39;49mreask_prompt,\n\u001b[1;32m    185\u001b[0m     reask_instructions_template\u001b[39m=\u001b[39;49mreask_instructions,\n\u001b[1;32m    186\u001b[0m )\n",
      "File \u001b[0;32m~/Projects/shreyar/guardrails/guardrails/schema.py:290\u001b[0m, in \u001b[0;36mSchema.__init__\u001b[0;34m(self, root, schema, reask_prompt_template, reask_instructions_template)\u001b[0m\n\u001b[1;32m    288\u001b[0m \u001b[39mself\u001b[39m\u001b[39m.\u001b[39mroot \u001b[39m=\u001b[39m root\n\u001b[1;32m    289\u001b[0m \u001b[39mif\u001b[39;00m root \u001b[39mis\u001b[39;00m \u001b[39mnot\u001b[39;00m \u001b[39mNone\u001b[39;00m:\n\u001b[0;32m--> 290\u001b[0m     \u001b[39mself\u001b[39;49m\u001b[39m.\u001b[39;49msetup_schema(root)\n\u001b[1;32m    292\u001b[0m \u001b[39m# Setup reask templates\u001b[39;00m\n\u001b[1;32m    293\u001b[0m \u001b[39mself\u001b[39m\u001b[39m.\u001b[39mcheck_valid_reask_prompt(reask_prompt_template)\n",
      "File \u001b[0;32m~/Projects/shreyar/guardrails/guardrails/schema.py:532\u001b[0m, in \u001b[0;36mJsonSchema.setup_schema\u001b[0;34m(self, root)\u001b[0m\n\u001b[1;32m    530\u001b[0m     \u001b[39mcontinue\u001b[39;00m\n\u001b[1;32m    531\u001b[0m child_name \u001b[39m=\u001b[39m child\u001b[39m.\u001b[39mattrib[\u001b[39m\"\u001b[39m\u001b[39mname\u001b[39m\u001b[39m\"\u001b[39m]\n\u001b[0;32m--> 532\u001b[0m child_data \u001b[39m=\u001b[39m types_registry[child\u001b[39m.\u001b[39;49mtag]\u001b[39m.\u001b[39;49mfrom_xml(child, strict\u001b[39m=\u001b[39;49mstrict)\n\u001b[1;32m    533\u001b[0m \u001b[39mself\u001b[39m[child_name] \u001b[39m=\u001b[39m child_data\n",
      "File \u001b[0;32m~/Projects/shreyar/guardrails/guardrails/datatypes.py:141\u001b[0m, in \u001b[0;36mDataType.from_xml\u001b[0;34m(cls, element, strict)\u001b[0m\n\u001b[1;32m    137\u001b[0m \u001b[39m# TODO: don't want to pass strict through to DataType,\u001b[39;00m\n\u001b[1;32m    138\u001b[0m \u001b[39m# but need to pass it to FormatAttr.from_element\u001b[39;00m\n\u001b[1;32m    139\u001b[0m \u001b[39m# how to handle this?\u001b[39;00m\n\u001b[1;32m    140\u001b[0m format_attr \u001b[39m=\u001b[39m FormatAttr\u001b[39m.\u001b[39mfrom_element(element)\n\u001b[0;32m--> 141\u001b[0m format_attr\u001b[39m.\u001b[39;49mget_validators(strict)\n\u001b[1;32m    143\u001b[0m data_type \u001b[39m=\u001b[39m \u001b[39mcls\u001b[39m({}, format_attr, element)\n\u001b[1;32m    144\u001b[0m data_type\u001b[39m.\u001b[39mset_children(element)\n",
      "File \u001b[0;32m~/Projects/shreyar/guardrails/guardrails/schema.py:244\u001b[0m, in \u001b[0;36mFormatAttr.get_validators\u001b[0;34m(self, strict)\u001b[0m\n\u001b[1;32m    242\u001b[0m     \u001b[39mprint\u001b[39m(\u001b[39m\"\u001b[39m\u001b[39mvalidator_name\u001b[39m\u001b[39m\"\u001b[39m, validator_name)\n\u001b[1;32m    243\u001b[0m     \u001b[39mprint\u001b[39m(\u001b[39m\"\u001b[39m\u001b[39margs\u001b[39m\u001b[39m\"\u001b[39m, args)\n\u001b[0;32m--> 244\u001b[0m     _validators\u001b[39m.\u001b[39mappend(validator(\u001b[39m*\u001b[39;49margs, on_fail\u001b[39m=\u001b[39;49mon_fail))\n\u001b[1;32m    246\u001b[0m \u001b[39mself\u001b[39m\u001b[39m.\u001b[39m_validators \u001b[39m=\u001b[39m _validators\n\u001b[1;32m    247\u001b[0m \u001b[39mself\u001b[39m\u001b[39m.\u001b[39m_unregistered_validators \u001b[39m=\u001b[39m _unregistered_validators\n",
      "\u001b[0;31mTypeError\u001b[0m: SimilarToDocument.__init__() got multiple values for argument 'on_fail'"
     ]
    }
   ],
   "source": [
    "guard = gd.Guard.from_rail_string(rail_str)"
   ]
  },
  {
   "cell_type": "markdown",
   "metadata": {},
   "source": [
    "Or from our Pydantic model:"
   ]
  },
  {
   "cell_type": "code",
   "execution_count": null,
   "metadata": {},
   "outputs": [],
   "source": [
    "guard = gd.Guard.from_pydantic(output_class=DocumentSummary, prompt=prompt)"
   ]
  },
  {
   "cell_type": "markdown",
   "metadata": {},
   "source": [
    "We see the prompt that will be sent to the LLM:"
   ]
  },
  {
   "cell_type": "code",
   "execution_count": null,
   "metadata": {},
   "outputs": [],
   "source": [
    "print(guard.base_prompt)"
   ]
  },
  {
   "cell_type": "markdown",
   "metadata": {},
   "source": [
    "Here, `statement_to_be_translated` is the the statement and will be provided by the user at runtime."
   ]
  },
  {
   "cell_type": "markdown",
   "metadata": {},
   "source": [
    "## Step 3: Wrap the LLM API call with `Guard`"
   ]
  },
  {
   "cell_type": "markdown",
   "metadata": {},
   "source": [
    "First, let's try translating a statement that doesn't have any profanity in it."
   ]
  },
  {
   "cell_type": "code",
   "execution_count": null,
   "metadata": {},
   "outputs": [],
   "source": [
    "import openai\n",
    "\n",
    "raw_llm_response, validated_response = guard(\n",
    "    openai.Completion.create,\n",
    "    prompt_params={'document': document},\n",
    "    engine='text-davinci-003',\n",
    "    max_tokens=2048,\n",
    "    temperature=0\n",
    ")\n",
    "\n",
    "print(f\"Validated Output: {validated_response}\")"
   ]
  },
  {
   "attachments": {},
   "cell_type": "markdown",
   "metadata": {},
   "source": [
    "In order to see a detailed look into the logs of the `Guard` object, we can print the `Guard` state history:"
   ]
  },
  {
   "cell_type": "code",
   "execution_count": null,
   "metadata": {},
   "outputs": [],
   "source": [
    "print(guard.state.most_recent_call.tree)"
   ]
  },
  {
   "attachments": {},
   "cell_type": "markdown",
   "metadata": {},
   "source": [
    "The `guard` wrapper returns the raw_llm_respose (which is a simple string), and the validated and corrected output (which is a dictionary). We can see that the output is a dictionary with the correct schema and types.\n",
    "\n",
    "Next, let's try using a smaller model, which is not going to be good at summarization. We can see that the output is filtered out."
   ]
  },
  {
   "cell_type": "code",
   "execution_count": null,
   "metadata": {},
   "outputs": [],
   "source": [
    "raw_llm_response, validated_response = guard(\n",
    "    openai.Completion.create,\n",
    "    prompt_params={'document': open(\"data/article1.txt\", \"r\").read()},\n",
    "    engine='text-ada-001',\n",
    "    max_tokens=512,\n",
    "    temperature=0\n",
    ")\n",
    "\n",
    "print(f\"Validated Output: {validated_response}\")"
   ]
  },
  {
   "attachments": {},
   "cell_type": "markdown",
   "metadata": {},
   "source": [
    "We can see the step-wise history of the `Guard` object below:"
   ]
  },
  {
   "cell_type": "code",
   "execution_count": null,
   "metadata": {},
   "outputs": [],
   "source": [
    "print(guard.state.most_recent_call.tree)"
   ]
  }
 ],
 "metadata": {
  "kernelspec": {
   "display_name": "guardrails",
   "language": "python",
   "name": "python3"
  },
  "language_info": {
   "codemirror_mode": {
    "name": "ipython",
    "version": 3
   },
   "file_extension": ".py",
   "mimetype": "text/x-python",
   "name": "python",
   "nbconvert_exporter": "python",
   "pygments_lexer": "ipython3",
   "version": "3.11.4"
  },
  "orig_nbformat": 4
 },
 "nbformat": 4,
 "nbformat_minor": 2
}
