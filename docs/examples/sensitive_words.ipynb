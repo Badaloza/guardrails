{
 "cells": [
  {
   "cell_type": "markdown",
   "metadata": {},
   "source": [
    "## Check whether an LLM-generated response contains sensitive words\n",
    "\n",
    "### Using the `SensitiveWords` validator\n",
    "\n",
    "This is a simple walkthrough of how to use the `SensitiveWords` validator to check whether an LLM-generated response contains culturally inapporopriate/sensitive words that are now outdated. Such words may appear in the LLM-generated response because they might be present in the training data. These words can be offensive and inappropriate in certain contexts. This validator will detect such words, and replace them with corresponding appropriate words. It is based on a static list of manually curated words and phrases - and hence may not be exhaustive and may not be able to detect all such words.\n"
   ]
  },
  {
   "cell_type": "code",
   "execution_count": 1,
   "metadata": {},
   "outputs": [],
   "source": [
    "# Import the guardrails package\n",
    "# and the SensitiveWords validator\n",
    "\n",
    "import guardrails as gd\n",
    "from guardrails.validators import SensitiveWords\n",
    "from rich import print"
   ]
  },
  {
   "cell_type": "code",
   "execution_count": 2,
   "metadata": {},
   "outputs": [],
   "source": [
    "# Create a Guard object with this validator\n",
    "# Here, we'll specify that we want to fix\n",
    "# if the validator detects sensitive words\n",
    "\n",
    "guard = gd.Guard.from_string(\n",
    "    validators=[SensitiveWords(on_fail=\"fix\")],\n",
    "    description=\"testmeout\",\n",
    ")"
   ]
  },
  {
   "cell_type": "code",
   "execution_count": 3,
   "metadata": {},
   "outputs": [
    {
     "data": {
      "text/html": [
       "<pre style=\"white-space:pre;overflow-x:auto;line-height:normal;font-family:Menlo,'DejaVu Sans Mono',consolas,'Courier New',monospace\">\n",
       "Jennifer is an actor who lives in New York City. The other day, her car got towed after she parked it in the \n",
       "accessible parking zone. \n",
       "She was very upset. She is also soon to be out of office on her parental leave. She says, the workload has been \n",
       "chaotic!\n",
       "\n",
       "</pre>\n"
      ],
      "text/plain": [
       "\n",
       "Jennifer is an actor who lives in New York City. The other day, her car got towed after she parked it in the \n",
       "accessible parking zone. \n",
       "She was very upset. She is also soon to be out of office on her parental leave. She says, the workload has been \n",
       "chaotic!\n",
       "\n"
      ]
     },
     "metadata": {},
     "output_type": "display_data"
    }
   ],
   "source": [
    "# Parse the generated response\n",
    "response = \"\"\"\n",
    "Jennifer is an actress who lives in New York City. The other day, her car got towed after she parked it in the handicapped parking zone. \n",
    "She was very upset. She is also soon to be out of office on her maternity leave. She says, the workload has been crazy!\n",
    "\"\"\"\n",
    "\n",
    "output = guard.parse(\n",
    "    llm_output=response,\n",
    ")\n",
    "\n",
    "# Print the output\n",
    "print(output)"
   ]
  },
  {
   "cell_type": "markdown",
   "metadata": {},
   "source": [
    "As you can see, words like `actress`, `handicapped parking`, `maternity leave`, and `crazy` have been replaced with `actor`, `accessible parking`, `parental leave`, and `chaotic` respectively.\n"
   ]
  },
  {
   "cell_type": "code",
   "execution_count": 4,
   "metadata": {},
   "outputs": [
    {
     "data": {
      "text/html": [
       "<pre style=\"white-space:pre;overflow-x:auto;line-height:normal;font-family:Menlo,'DejaVu Sans Mono',consolas,'Courier New',monospace\">\n",
       "As a general guideline, you should not drink more than <span style=\"color: #008080; text-decoration-color: #008080; font-weight: bold\">2</span> cups of coffee a day.\n",
       "In the gentrified neighborhood of Brooklyn, there are a lot of new developments going on to \n",
       "support the growing population. The neighborhood is also very diverse, with people from all walks of life.\n",
       "Unlike Manhattan, Brooklyn is a lot more affordable and has less people with an addiction roaming the streets. As a\n",
       "quick check,\n",
       "we should make sure that this data is not corrupted.\n",
       "\n",
       "</pre>\n"
      ],
      "text/plain": [
       "\n",
       "As a general guideline, you should not drink more than \u001b[1;36m2\u001b[0m cups of coffee a day.\n",
       "In the gentrified neighborhood of Brooklyn, there are a lot of new developments going on to \n",
       "support the growing population. The neighborhood is also very diverse, with people from all walks of life.\n",
       "Unlike Manhattan, Brooklyn is a lot more affordable and has less people with an addiction roaming the streets. As a\n",
       "quick check,\n",
       "we should make sure that this data is not corrupted.\n",
       "\n"
      ]
     },
     "metadata": {},
     "output_type": "display_data"
    }
   ],
   "source": [
    "# Parse another response that contains other sensitive words\n",
    "response = \"\"\"\n",
    "As a rule of thumb, you should not drink more than 2 cups of coffee a day.\n",
    "In the up-and-coming neighborhood of Brooklyn, there are a lot of new developments going on to \n",
    "support the growing population. The neighborhood is also very diverse, with people from all walks of life.\n",
    "Unlike Manhattan, Brooklyn is a lot more affordable and has less addicts roaming the streets. As a sanity check,\n",
    "we should make sure that this data is not corrupted.\n",
    "\"\"\"\n",
    "\n",
    "output = guard.parse(\n",
    "    llm_output=response,\n",
    ")\n",
    "\n",
    "# Print the output\n",
    "print(output)"
   ]
  },
  {
   "cell_type": "markdown",
   "metadata": {},
   "source": [
    "Here, words like `rule of thumb`, `up-and-coming neighborhood`, `addicts` and `sanity check` have been detected and replaced by their corresponding appropriate words.\n"
   ]
  },
  {
   "cell_type": "code",
   "execution_count": 5,
   "metadata": {},
   "outputs": [
    {
     "data": {
      "text/html": [
       "<pre style=\"white-space:pre;overflow-x:auto;line-height:normal;font-family:Menlo,'DejaVu Sans Mono',consolas,'Courier New',monospace\">\n",
       "What a beautiful day! The sun is shining and the birds are chirping. I am so happy to be alive!\n",
       "\n",
       "</pre>\n"
      ],
      "text/plain": [
       "\n",
       "What a beautiful day! The sun is shining and the birds are chirping. I am so happy to be alive!\n",
       "\n"
      ]
     },
     "metadata": {},
     "output_type": "display_data"
    }
   ],
   "source": [
    "# Parse another response that has no sensitive words\n",
    "response = \"\"\"\n",
    "What a beautiful day! The sun is shining and the birds are chirping. I am so happy to be alive!\n",
    "\"\"\"\n",
    "\n",
    "output = guard.parse(\n",
    "    llm_output=response,\n",
    ")\n",
    "\n",
    "# Print the output\n",
    "print(output)"
   ]
  },
  {
   "cell_type": "markdown",
   "metadata": {},
   "source": [
    "No sensitive words were detected here, and the original response is returned as it is!\n"
   ]
  }
 ],
 "metadata": {
  "kernelspec": {
   "display_name": "guard-venv",
   "language": "python",
   "name": "python3"
  },
  "language_info": {
   "codemirror_mode": {
    "name": "ipython",
    "version": 3
   },
   "file_extension": ".py",
   "mimetype": "text/x-python",
   "name": "python",
   "nbconvert_exporter": "python",
   "pygments_lexer": "ipython3",
   "version": "3.11.6"
  }
 },
 "nbformat": 4,
 "nbformat_minor": 2
}
