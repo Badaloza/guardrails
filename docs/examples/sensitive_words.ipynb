{
 "cells": [
  {
   "cell_type": "code",
   "execution_count": 1,
   "metadata": {},
   "outputs": [],
   "source": [
    "# Import the guardrails package\n",
    "# and the DetectSecrets validator\n",
    "import guardrails as gd\n",
    "from guardrails.validators import SensitiveWords\n",
    "from rich import print"
   ]
  },
  {
   "cell_type": "code",
   "execution_count": 2,
   "metadata": {},
   "outputs": [],
   "source": [
    "# Create a Guard object with this validator\n",
    "# Here, we'll specify that we want to fix\n",
    "# if the validator detects sensitive words\n",
    "\n",
    "guard = gd.Guard.from_string(\n",
    "    validators=[SensitiveWords(on_fail=\"fix\")],\n",
    "    description=\"testmeout\",\n",
    ")"
   ]
  },
  {
   "cell_type": "code",
   "execution_count": 4,
   "metadata": {},
   "outputs": [
    {
     "data": {
      "text/html": [
       "<pre style=\"white-space:pre;overflow-x:auto;line-height:normal;font-family:Menlo,'DejaVu Sans Mono',consolas,'Courier New',monospace\">That older person is a real jerk. He is a lower-income worker working as a firefighter.\n",
       "</pre>\n"
      ],
      "text/plain": [
       "That older person is a real jerk. He is a lower-income worker working as a firefighter.\n"
      ]
     },
     "metadata": {},
     "output_type": "display_data"
    }
   ],
   "source": [
    "# Parse the genrated response\n",
    "response = (\n",
    "    \"That geezer is a real jerk. He is a blue-collar worker working as a fireman.\"\n",
    ")\n",
    "output = guard.parse(\n",
    "    llm_output=response,\n",
    ")\n",
    "\n",
    "# Print the output\n",
    "print(output)"
   ]
  },
  {
   "cell_type": "code",
   "execution_count": 5,
   "metadata": {},
   "outputs": [
    {
     "data": {
      "text/html": [
       "<pre style=\"white-space:pre;overflow-x:auto;line-height:normal;font-family:Menlo,'DejaVu Sans Mono',consolas,'Courier New',monospace\">What a lovely day!\n",
       "</pre>\n"
      ],
      "text/plain": [
       "What a lovely day!\n"
      ]
     },
     "metadata": {},
     "output_type": "display_data"
    }
   ],
   "source": [
    "# Parse the genrated response\n",
    "response = \"What a lovely day!\"\n",
    "output = guard.parse(\n",
    "    llm_output=response,\n",
    ")\n",
    "\n",
    "# Print the output\n",
    "print(output)"
   ]
  },
  {
   "cell_type": "code",
   "execution_count": null,
   "metadata": {},
   "outputs": [],
   "source": []
  }
 ],
 "metadata": {
  "kernelspec": {
   "display_name": "guard-venv",
   "language": "python",
   "name": "python3"
  },
  "language_info": {
   "codemirror_mode": {
    "name": "ipython",
    "version": 3
   },
   "file_extension": ".py",
   "mimetype": "text/x-python",
   "name": "python",
   "nbconvert_exporter": "python",
   "pygments_lexer": "ipython3",
   "version": "3.11.6"
  }
 },
 "nbformat": 4,
 "nbformat_minor": 2
}
