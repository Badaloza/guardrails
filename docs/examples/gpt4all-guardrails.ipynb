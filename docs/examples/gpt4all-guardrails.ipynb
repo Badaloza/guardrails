{
 "cells": [
  {
   "cell_type": "code",
   "execution_count": 25,
   "metadata": {},
   "outputs": [
    {
     "data": {
      "text/html": [
       "<pre style=\"white-space:pre;overflow-x:auto;line-height:normal;font-family:Menlo,'DejaVu Sans Mono',consolas,'Courier New',monospace\"> Sure, here are four colors with their corresponding RGB codes in hexadecimal format:\n",
       "\n",
       "```json\n",
       "<span style=\"font-weight: bold\">{</span>\n",
       " <span style=\"color: #008000; text-decoration-color: #008000\">\"colors\"</span>: <span style=\"font-weight: bold\">[</span>\n",
       " <span style=\"font-weight: bold\">{</span><span style=\"color: #008000; text-decoration-color: #008000\">\"name\"</span>: <span style=\"color: #008000; text-decoration-color: #008000\">\"Red\"</span>, <span style=\"color: #008000; text-decoration-color: #008000\">\"code\"</span>: <span style=\"color: #008000; text-decoration-color: #008000\">\"#FF0000\"</span><span style=\"font-weight: bold\">}</span>,\n",
       " <span style=\"font-weight: bold\">{</span><span style=\"color: #008000; text-decoration-color: #008000\">\"name\"</span>: <span style=\"color: #008000; text-decoration-color: #008000\">\"Green\"</span>, <span style=\"color: #008000; text-decoration-color: #008000\">\"code\"</span>: <span style=\"color: #008000; text-decoration-color: #008000\">\"00FF00\"</span><span style=\"font-weight: bold\">}</span>,\n",
       " <span style=\"font-weight: bold\">{</span><span style=\"color: #008000; text-decoration-color: #008000\">\"name\"</span>: <span style=\"color: #008000; text-decoration-color: #008000\">\"Blue\"</span>, <span style=\"color: #008000; text-decoration-color: #008000\">\"code\"</span>: <span style=\"color: #008000; text-decoration-color: #008000\">\"0000FF\"</span><span style=\"font-weight: bold\">}</span>,\n",
       " <span style=\"font-weight: bold\">{</span><span style=\"color: #008000; text-decoration-color: #008000\">\"name\"</span>: <span style=\"color: #008000; text-decoration-color: #008000\">\"Yellow\"</span>, <span style=\"color: #008000; text-decoration-color: #008000\">\"code\"</span>: <span style=\"color: #008000; text-decoration-color: #008000\">\"FFFF00\"</span><span style=\"font-weight: bold\">}</span>\n",
       " <span style=\"font-weight: bold\">]</span>\n",
       "<span style=\"font-weight: bold\">}</span>\n",
       "```\n",
       "</pre>\n"
      ],
      "text/plain": [
       " Sure, here are four colors with their corresponding RGB codes in hexadecimal format:\n",
       "\n",
       "```json\n",
       "\u001b[1m{\u001b[0m\n",
       " \u001b[32m\"colors\"\u001b[0m: \u001b[1m[\u001b[0m\n",
       " \u001b[1m{\u001b[0m\u001b[32m\"name\"\u001b[0m: \u001b[32m\"Red\"\u001b[0m, \u001b[32m\"code\"\u001b[0m: \u001b[32m\"#FF0000\"\u001b[0m\u001b[1m}\u001b[0m,\n",
       " \u001b[1m{\u001b[0m\u001b[32m\"name\"\u001b[0m: \u001b[32m\"Green\"\u001b[0m, \u001b[32m\"code\"\u001b[0m: \u001b[32m\"00FF00\"\u001b[0m\u001b[1m}\u001b[0m,\n",
       " \u001b[1m{\u001b[0m\u001b[32m\"name\"\u001b[0m: \u001b[32m\"Blue\"\u001b[0m, \u001b[32m\"code\"\u001b[0m: \u001b[32m\"0000FF\"\u001b[0m\u001b[1m}\u001b[0m,\n",
       " \u001b[1m{\u001b[0m\u001b[32m\"name\"\u001b[0m: \u001b[32m\"Yellow\"\u001b[0m, \u001b[32m\"code\"\u001b[0m: \u001b[32m\"FFFF00\"\u001b[0m\u001b[1m}\u001b[0m\n",
       " \u001b[1m]\u001b[0m\n",
       "\u001b[1m}\u001b[0m\n",
       "```\n"
      ]
     },
     "metadata": {},
     "output_type": "display_data"
    }
   ],
   "source": [
    "import gpt4all\n",
    "\n",
    "model = gpt4all.GPT4All(\"orca-mini-3b-gguf2-q4_0.gguf\")\n",
    "colors_prompt = \"Give me a list of 4 colors and their RGB code. Format the list as a valid json object. It should look like { colors: [generated colors go here] }\"\n",
    "with model.chat_session():\n",
    "    response = model.generate(colors_prompt)\n",
    "    print(response)"
   ]
  },
  {
   "cell_type": "code",
   "execution_count": 26,
   "metadata": {},
   "outputs": [
    {
     "name": "stderr",
     "output_type": "stream",
     "text": [
      "/Users/zaydsimjee/workspace/guardrails/.venv/lib/python3.11/site-packages/guardrails/prompt/prompt.py:25: UserWarning: Prompt does not have any variables, if you are migrating follow the new variable convention documented here: https://docs.guardrailsai.com/0-2-migration/\n",
      "  warnings.warn(\n"
     ]
    },
    {
     "data": {
      "text/html": [
       "<pre style=\"white-space:pre;overflow-x:auto;line-height:normal;font-family:Menlo,'DejaVu Sans Mono',consolas,'Courier New',monospace\">Logs\n",
       "└── ╭────────────────────────────────────────────────── Step 0 ───────────────────────────────────────────────────╮\n",
       "    │ <span style=\"background-color: #f0f8ff\">╭──────────────────────────────────────────────── Prompt ─────────────────────────────────────────────────╮</span> │\n",
       "    │ <span style=\"background-color: #f0f8ff\">│ Give me a list of 4 colors and their RGB code. Format the list as a valid json object. It should look   │</span> │\n",
       "    │ <span style=\"background-color: #f0f8ff\">│ like { colors:  }                                                                                       │</span> │\n",
       "    │ <span style=\"background-color: #f0f8ff\">╰─────────────────────────────────────────────────────────────────────────────────────────────────────────╯</span> │\n",
       "    │ <span style=\"background-color: #e7dfeb\">╭──────────────────────────────────────────── Message History ────────────────────────────────────────────╮</span> │\n",
       "    │ <span style=\"background-color: #e7dfeb\">│ No message history.                                                                                     │</span> │\n",
       "    │ <span style=\"background-color: #e7dfeb\">╰─────────────────────────────────────────────────────────────────────────────────────────────────────────╯</span> │\n",
       "    │ <span style=\"background-color: #f5f5dc\">╭──────────────────────────────────────────── Raw LLM Output ─────────────────────────────────────────────╮</span> │\n",
       "    │ <span style=\"background-color: #f5f5dc\">│  Sure, here are four colors with their corresponding RGB codes in hexadecimal format:                   │</span> │\n",
       "    │ <span style=\"background-color: #f5f5dc\">│                                                                                                         │</span> │\n",
       "    │ <span style=\"background-color: #f5f5dc\">│ ```json                                                                                                 │</span> │\n",
       "    │ <span style=\"background-color: #f5f5dc\">│ {                                                                                                       │</span> │\n",
       "    │ <span style=\"background-color: #f5f5dc\">│  \"colors\": [                                                                                            │</span> │\n",
       "    │ <span style=\"background-color: #f5f5dc\">│  {\"name\": \"Red\", \"code\": \"#FF0000\"},                                                                    │</span> │\n",
       "    │ <span style=\"background-color: #f5f5dc\">│  {\"name\": \"Green\", \"code\": \"00FF00\"},                                                                   │</span> │\n",
       "    │ <span style=\"background-color: #f5f5dc\">│  {\"name\": \"Blue\", \"code\": \"0000FF\"},                                                                    │</span> │\n",
       "    │ <span style=\"background-color: #f5f5dc\">│  {\"name\": \"Yellow\", \"code\": \"FFFF00\"}                                                                   │</span> │\n",
       "    │ <span style=\"background-color: #f5f5dc\">│  ]                                                                                                      │</span> │\n",
       "    │ <span style=\"background-color: #f5f5dc\">│ }                                                                                                       │</span> │\n",
       "    │ <span style=\"background-color: #f5f5dc\">│ ```                                                                                                     │</span> │\n",
       "    │ <span style=\"background-color: #f5f5dc\">╰─────────────────────────────────────────────────────────────────────────────────────────────────────────╯</span> │\n",
       "    │ <span style=\"background-color: #f0fff0\">╭─────────────────────────────────────────── Validated Output ────────────────────────────────────────────╮</span> │\n",
       "    │ <span style=\"background-color: #f0fff0\">│ {                                                                                                       │</span> │\n",
       "    │ <span style=\"background-color: #f0fff0\">│     'colors': [                                                                                         │</span> │\n",
       "    │ <span style=\"background-color: #f0fff0\">│         {'name': 'Red', 'code': '#FF0000'},                                                             │</span> │\n",
       "    │ <span style=\"background-color: #f0fff0\">│         {'name': 'Green', 'code': '00FF00'},                                                            │</span> │\n",
       "    │ <span style=\"background-color: #f0fff0\">│         {'name': 'Blue', 'code': '0000FF'},                                                             │</span> │\n",
       "    │ <span style=\"background-color: #f0fff0\">│         {'name': 'Yellow', 'code': 'FFFF00'}                                                            │</span> │\n",
       "    │ <span style=\"background-color: #f0fff0\">│     ]                                                                                                   │</span> │\n",
       "    │ <span style=\"background-color: #f0fff0\">│ }                                                                                                       │</span> │\n",
       "    │ <span style=\"background-color: #f0fff0\">╰─────────────────────────────────────────────────────────────────────────────────────────────────────────╯</span> │\n",
       "    ╰─────────────────────────────────────────────────────────────────────────────────────────────────────────────╯\n",
       "</pre>\n"
      ],
      "text/plain": [
       "Logs\n",
       "└── ╭────────────────────────────────────────────────── Step 0 ───────────────────────────────────────────────────╮\n",
       "    │ \u001b[48;2;240;248;255m╭─\u001b[0m\u001b[48;2;240;248;255m───────────────────────────────────────────────\u001b[0m\u001b[48;2;240;248;255m Prompt \u001b[0m\u001b[48;2;240;248;255m────────────────────────────────────────────────\u001b[0m\u001b[48;2;240;248;255m─╮\u001b[0m │\n",
       "    │ \u001b[48;2;240;248;255m│\u001b[0m\u001b[48;2;240;248;255m \u001b[0m\u001b[48;2;240;248;255mGive me a list of 4 colors and their RGB code. Format the list as a valid json object. It should look \u001b[0m\u001b[48;2;240;248;255m \u001b[0m\u001b[48;2;240;248;255m \u001b[0m\u001b[48;2;240;248;255m│\u001b[0m │\n",
       "    │ \u001b[48;2;240;248;255m│\u001b[0m\u001b[48;2;240;248;255m \u001b[0m\u001b[48;2;240;248;255mlike { colors: \u001b[0m\u001b[48;2;240;248;255m }\u001b[0m\u001b[48;2;240;248;255m                                                                                      \u001b[0m\u001b[48;2;240;248;255m \u001b[0m\u001b[48;2;240;248;255m│\u001b[0m │\n",
       "    │ \u001b[48;2;240;248;255m╰─────────────────────────────────────────────────────────────────────────────────────────────────────────╯\u001b[0m │\n",
       "    │ \u001b[48;2;231;223;235m╭─\u001b[0m\u001b[48;2;231;223;235m───────────────────────────────────────────\u001b[0m\u001b[48;2;231;223;235m Message History \u001b[0m\u001b[48;2;231;223;235m───────────────────────────────────────────\u001b[0m\u001b[48;2;231;223;235m─╮\u001b[0m │\n",
       "    │ \u001b[48;2;231;223;235m│\u001b[0m\u001b[48;2;231;223;235m \u001b[0m\u001b[48;2;231;223;235mNo message history.\u001b[0m\u001b[48;2;231;223;235m                                                                                    \u001b[0m\u001b[48;2;231;223;235m \u001b[0m\u001b[48;2;231;223;235m│\u001b[0m │\n",
       "    │ \u001b[48;2;231;223;235m╰─────────────────────────────────────────────────────────────────────────────────────────────────────────╯\u001b[0m │\n",
       "    │ \u001b[48;2;245;245;220m╭─\u001b[0m\u001b[48;2;245;245;220m───────────────────────────────────────────\u001b[0m\u001b[48;2;245;245;220m Raw LLM Output \u001b[0m\u001b[48;2;245;245;220m────────────────────────────────────────────\u001b[0m\u001b[48;2;245;245;220m─╮\u001b[0m │\n",
       "    │ \u001b[48;2;245;245;220m│\u001b[0m\u001b[48;2;245;245;220m \u001b[0m\u001b[48;2;245;245;220m Sure, here are four colors with their corresponding RGB codes in hexadecimal format:\u001b[0m\u001b[48;2;245;245;220m                  \u001b[0m\u001b[48;2;245;245;220m \u001b[0m\u001b[48;2;245;245;220m│\u001b[0m │\n",
       "    │ \u001b[48;2;245;245;220m│\u001b[0m\u001b[48;2;245;245;220m \u001b[0m\u001b[48;2;245;245;220m                                                                                                       \u001b[0m\u001b[48;2;245;245;220m \u001b[0m\u001b[48;2;245;245;220m│\u001b[0m │\n",
       "    │ \u001b[48;2;245;245;220m│\u001b[0m\u001b[48;2;245;245;220m \u001b[0m\u001b[48;2;245;245;220m```json\u001b[0m\u001b[48;2;245;245;220m                                                                                                \u001b[0m\u001b[48;2;245;245;220m \u001b[0m\u001b[48;2;245;245;220m│\u001b[0m │\n",
       "    │ \u001b[48;2;245;245;220m│\u001b[0m\u001b[48;2;245;245;220m \u001b[0m\u001b[48;2;245;245;220m{\u001b[0m\u001b[48;2;245;245;220m                                                                                                      \u001b[0m\u001b[48;2;245;245;220m \u001b[0m\u001b[48;2;245;245;220m│\u001b[0m │\n",
       "    │ \u001b[48;2;245;245;220m│\u001b[0m\u001b[48;2;245;245;220m \u001b[0m\u001b[48;2;245;245;220m \"colors\": [\u001b[0m\u001b[48;2;245;245;220m                                                                                           \u001b[0m\u001b[48;2;245;245;220m \u001b[0m\u001b[48;2;245;245;220m│\u001b[0m │\n",
       "    │ \u001b[48;2;245;245;220m│\u001b[0m\u001b[48;2;245;245;220m \u001b[0m\u001b[48;2;245;245;220m {\"name\": \"Red\", \"code\": \"#FF0000\"},\u001b[0m\u001b[48;2;245;245;220m                                                                   \u001b[0m\u001b[48;2;245;245;220m \u001b[0m\u001b[48;2;245;245;220m│\u001b[0m │\n",
       "    │ \u001b[48;2;245;245;220m│\u001b[0m\u001b[48;2;245;245;220m \u001b[0m\u001b[48;2;245;245;220m {\"name\": \"Green\", \"code\": \"00FF00\"},\u001b[0m\u001b[48;2;245;245;220m                                                                  \u001b[0m\u001b[48;2;245;245;220m \u001b[0m\u001b[48;2;245;245;220m│\u001b[0m │\n",
       "    │ \u001b[48;2;245;245;220m│\u001b[0m\u001b[48;2;245;245;220m \u001b[0m\u001b[48;2;245;245;220m {\"name\": \"Blue\", \"code\": \"0000FF\"},\u001b[0m\u001b[48;2;245;245;220m                                                                   \u001b[0m\u001b[48;2;245;245;220m \u001b[0m\u001b[48;2;245;245;220m│\u001b[0m │\n",
       "    │ \u001b[48;2;245;245;220m│\u001b[0m\u001b[48;2;245;245;220m \u001b[0m\u001b[48;2;245;245;220m {\"name\": \"Yellow\", \"code\": \"FFFF00\"}\u001b[0m\u001b[48;2;245;245;220m                                                                  \u001b[0m\u001b[48;2;245;245;220m \u001b[0m\u001b[48;2;245;245;220m│\u001b[0m │\n",
       "    │ \u001b[48;2;245;245;220m│\u001b[0m\u001b[48;2;245;245;220m \u001b[0m\u001b[48;2;245;245;220m ]\u001b[0m\u001b[48;2;245;245;220m                                                                                                     \u001b[0m\u001b[48;2;245;245;220m \u001b[0m\u001b[48;2;245;245;220m│\u001b[0m │\n",
       "    │ \u001b[48;2;245;245;220m│\u001b[0m\u001b[48;2;245;245;220m \u001b[0m\u001b[48;2;245;245;220m}\u001b[0m\u001b[48;2;245;245;220m                                                                                                      \u001b[0m\u001b[48;2;245;245;220m \u001b[0m\u001b[48;2;245;245;220m│\u001b[0m │\n",
       "    │ \u001b[48;2;245;245;220m│\u001b[0m\u001b[48;2;245;245;220m \u001b[0m\u001b[48;2;245;245;220m```\u001b[0m\u001b[48;2;245;245;220m                                                                                                    \u001b[0m\u001b[48;2;245;245;220m \u001b[0m\u001b[48;2;245;245;220m│\u001b[0m │\n",
       "    │ \u001b[48;2;245;245;220m╰─────────────────────────────────────────────────────────────────────────────────────────────────────────╯\u001b[0m │\n",
       "    │ \u001b[48;2;240;255;240m╭─\u001b[0m\u001b[48;2;240;255;240m──────────────────────────────────────────\u001b[0m\u001b[48;2;240;255;240m Validated Output \u001b[0m\u001b[48;2;240;255;240m───────────────────────────────────────────\u001b[0m\u001b[48;2;240;255;240m─╮\u001b[0m │\n",
       "    │ \u001b[48;2;240;255;240m│\u001b[0m\u001b[48;2;240;255;240m \u001b[0m\u001b[48;2;240;255;240m{\u001b[0m\u001b[48;2;240;255;240m                                                                                                      \u001b[0m\u001b[48;2;240;255;240m \u001b[0m\u001b[48;2;240;255;240m│\u001b[0m │\n",
       "    │ \u001b[48;2;240;255;240m│\u001b[0m\u001b[48;2;240;255;240m \u001b[0m\u001b[48;2;240;255;240m    'colors': [\u001b[0m\u001b[48;2;240;255;240m                                                                                        \u001b[0m\u001b[48;2;240;255;240m \u001b[0m\u001b[48;2;240;255;240m│\u001b[0m │\n",
       "    │ \u001b[48;2;240;255;240m│\u001b[0m\u001b[48;2;240;255;240m \u001b[0m\u001b[48;2;240;255;240m        {'name': 'Red', 'code': '#FF0000'},\u001b[0m\u001b[48;2;240;255;240m                                                            \u001b[0m\u001b[48;2;240;255;240m \u001b[0m\u001b[48;2;240;255;240m│\u001b[0m │\n",
       "    │ \u001b[48;2;240;255;240m│\u001b[0m\u001b[48;2;240;255;240m \u001b[0m\u001b[48;2;240;255;240m        {'name': 'Green', 'code': '00FF00'},\u001b[0m\u001b[48;2;240;255;240m                                                           \u001b[0m\u001b[48;2;240;255;240m \u001b[0m\u001b[48;2;240;255;240m│\u001b[0m │\n",
       "    │ \u001b[48;2;240;255;240m│\u001b[0m\u001b[48;2;240;255;240m \u001b[0m\u001b[48;2;240;255;240m        {'name': 'Blue', 'code': '0000FF'},\u001b[0m\u001b[48;2;240;255;240m                                                            \u001b[0m\u001b[48;2;240;255;240m \u001b[0m\u001b[48;2;240;255;240m│\u001b[0m │\n",
       "    │ \u001b[48;2;240;255;240m│\u001b[0m\u001b[48;2;240;255;240m \u001b[0m\u001b[48;2;240;255;240m        {'name': 'Yellow', 'code': 'FFFF00'}\u001b[0m\u001b[48;2;240;255;240m                                                           \u001b[0m\u001b[48;2;240;255;240m \u001b[0m\u001b[48;2;240;255;240m│\u001b[0m │\n",
       "    │ \u001b[48;2;240;255;240m│\u001b[0m\u001b[48;2;240;255;240m \u001b[0m\u001b[48;2;240;255;240m    ]\u001b[0m\u001b[48;2;240;255;240m                                                                                                  \u001b[0m\u001b[48;2;240;255;240m \u001b[0m\u001b[48;2;240;255;240m│\u001b[0m │\n",
       "    │ \u001b[48;2;240;255;240m│\u001b[0m\u001b[48;2;240;255;240m \u001b[0m\u001b[48;2;240;255;240m}\u001b[0m\u001b[48;2;240;255;240m                                                                                                      \u001b[0m\u001b[48;2;240;255;240m \u001b[0m\u001b[48;2;240;255;240m│\u001b[0m │\n",
       "    │ \u001b[48;2;240;255;240m╰─────────────────────────────────────────────────────────────────────────────────────────────────────────╯\u001b[0m │\n",
       "    ╰─────────────────────────────────────────────────────────────────────────────────────────────────────────────╯\n"
      ]
     },
     "metadata": {},
     "output_type": "display_data"
    }
   ],
   "source": [
    "from guardrails import Guard\n",
    "from pydantic import BaseModel\n",
    "from rich import print\n",
    "\n",
    "from guardrails.prompt import base_prompt\n",
    "\n",
    "class Color(BaseModel):\n",
    "    name: str\n",
    "    code: str\n",
    "\n",
    "class Colors(BaseModel):\n",
    "    colors: list[Color]\n",
    "\n",
    "guard = Guard.from_pydantic(output_class=Colors)\n",
    "\n",
    "def gpt4all_callable_wrapper(prompt, *args, **kwargs):\n",
    "    with model.chat_session():\n",
    "        response = model.generate(prompt)\n",
    "        return response\n",
    "\n",
    "validated_outcome = guard(\n",
    "    llm_api=gpt4all_callable_wrapper,\n",
    "    prompt=colors_prompt,\n",
    "    base_prompt=\"\"\n",
    ")\n",
    "\n",
    "print(guard.state.most_recent_call.tree)"
   ]
  }
 ],
 "metadata": {
  "kernelspec": {
   "display_name": ".venv",
   "language": "python",
   "name": "python3"
  },
  "language_info": {
   "codemirror_mode": {
    "name": "ipython",
    "version": 3
   },
   "file_extension": ".py",
   "mimetype": "text/x-python",
   "name": "python",
   "nbconvert_exporter": "python",
   "pygments_lexer": "ipython3",
   "version": "3.11.5"
  }
 },
 "nbformat": 4,
 "nbformat_minor": 2
}
