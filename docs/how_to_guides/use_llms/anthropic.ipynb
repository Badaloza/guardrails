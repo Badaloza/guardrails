{
 "cells": [
  {
   "cell_type": "markdown",
   "metadata": {},
   "source": [
    "# Setup API Keys"
   ]
  },
  {
   "cell_type": "code",
   "execution_count": 15,
   "metadata": {},
   "outputs": [],
   "source": [
    "import os\n",
    "\n",
    "# set env - [OPTIONAL] replace with your anthropic key\n",
    "# os.environ[\"ANTHROPIC_API_KEY\"] = \"your-key-here\""
   ]
  },
  {
   "cell_type": "markdown",
   "metadata": {},
   "source": [
    "# Usage"
   ]
  },
  {
   "cell_type": "code",
   "execution_count": 16,
   "metadata": {},
   "outputs": [
    {
     "name": "stdout",
     "output_type": "stream",
     "text": [
      "ValidationOutcome(\n",
      "    raw_llm_output=\"As an AI language model, I don't have feelings, but I'm functioning properly and ready to assist you with any questions or tasks you may have. How can I help you today?\",\n",
      "    validated_output=\"As an AI language model, I don't have feelings, but I'm functioning properly and ready to assist you with any questions or tasks you may have. How can I help you today?\",\n",
      "    reask=None,\n",
      "    validation_passed=True,\n",
      "    error=None\n",
      ")\n"
     ]
    }
   ],
   "source": [
    "from litellm import litellm\n",
    "from guardrails import Guard\n",
    "\n",
    "messages = [{\"role\": \"user\", \"content\": \"Hey! how's it going?\"}]\n",
    "guard = Guard()\n",
    "response = guard(\n",
    "  llm_api=litellm.completion,\n",
    "  model=\"claude-3-opus-20240229\",\n",
    "  msg_history=messages\n",
    ")\n",
    "\n",
    "print(response)"
   ]
  },
  {
   "cell_type": "markdown",
   "metadata": {},
   "source": [
    "# Streaming"
   ]
  },
  {
   "cell_type": "code",
   "execution_count": 21,
   "metadata": {},
   "outputs": [
    {
     "name": "stdout",
     "output_type": "stream",
     "text": [
      "As an AI language model, I don't have feelings or personal experiences, but I'm functioning properly and ready to assist you with any questions or tasks you may have. How can I help you today?\n"
     ]
    }
   ],
   "source": [
    "from IPython.display import clear_output\n",
    "\n",
    "messages = [{\"role\": \"user\", \"content\": \"Hey! how's it going?\"}]\n",
    "guard = Guard()\n",
    "response = guard(\n",
    "  llm_api=litellm.completion,\n",
    "  model=\"claude-3-opus-20240229\",\n",
    "  stream=True,\n",
    "  msg_history=messages\n",
    ")\n",
    "\n",
    "for r in response:\n",
    "  # remoe this line if you want to see each response on a new line\n",
    "  clear_output()\n",
    "  print(r.validated_output)"
   ]
  }
 ],
 "metadata": {
  "kernelspec": {
   "display_name": ".venv",
   "language": "python",
   "name": "python3"
  },
  "language_info": {
   "codemirror_mode": {
    "name": "ipython",
    "version": 3
   },
   "file_extension": ".py",
   "mimetype": "text/x-python",
   "name": "python",
   "nbconvert_exporter": "python",
   "pygments_lexer": "ipython3",
   "version": "3.8.18"
  }
 },
 "nbformat": 4,
 "nbformat_minor": 2
}
